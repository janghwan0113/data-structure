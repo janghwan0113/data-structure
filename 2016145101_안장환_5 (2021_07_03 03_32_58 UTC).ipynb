{
 "cells": [
  {
   "cell_type": "markdown",
   "metadata": {},
   "source": [
    "> ### EEE2020: Data Structures & Algorithms\n",
    "\n",
    "# Assignment \\# V: Trees and Tree Algorithms"
   ]
  },
  {
   "cell_type": "markdown",
   "metadata": {},
   "source": [
    "<div style=\"text-align: right\"> **Due date: June 4, 2021.** </div> \n",
    "<div style=\"text-align: right\"> **Please upload your file @ LearnUs by 7 PM.** </div> \n",
    "<br>\n",
    "<div style=\"text-align: right\"> Daesung Jeon(전대성): <a href=\"mailto:ds.jeon@yonsei.ac.kr\">ds.jeon@yonsei.ac.kr</a> \n",
    "<div style=\"text-align: right\"> Hyekang Park(박혜강): <a href=\"mailto:hyekang.park@yonsei.ac.kr\">hyekang.park@yonsei.ac.kr</a> </div>\n",
    "</div>"
   ]
  },
  {
   "cell_type": "markdown",
   "metadata": {},
   "source": [
    "-------------------------------"
   ]
  },
  {
   "cell_type": "markdown",
   "metadata": {},
   "source": [
    "\n",
    "### *Assignment Instructions:*\n",
    "1. Write a program implementing a particular algorithm to solve a given problem.\n",
    "2. You can use both Korean and Engligh for your report.\n",
    "3. **Analyze the algorithm theoretically and empirically, and write discussion.** \n",
    "4. **Report your results.**  \n",
    "    - You must do assignments and labs yourself. \n",
    "    - <span style=\"color:red\">**Do not copy any part of your friends’ code.**</span>\n",
    "    - Otherwise, you will get a F grade."
   ]
  },
  {
   "cell_type": "markdown",
   "metadata": {},
   "source": [
    "-----------------"
   ]
  },
  {
   "cell_type": "markdown",
   "metadata": {},
   "source": [
    "<h2><span style=\"color:blue\">[2016145101] [안장환]</span> </h2>"
   ]
  },
  {
   "cell_type": "code",
   "execution_count": 23,
   "metadata": {},
   "outputs": [
    {
     "name": "stdout",
     "output_type": "stream",
     "text": [
      "This code is written at 2021-06-04 15:01:25.756687\n"
     ]
    }
   ],
   "source": [
    "import datetime\n",
    "print(\"This code is written at \" + str(datetime.datetime.now()))"
   ]
  },
  {
   "cell_type": "code",
   "execution_count": 24,
   "metadata": {},
   "outputs": [
    {
     "name": "stdout",
     "output_type": "stream",
     "text": [
      "The autoreload extension is already loaded. To reload it, use:\n",
      "  %reload_ext autoreload\n"
     ]
    }
   ],
   "source": [
    "%load_ext autoreload\n",
    "%autoreload 2"
   ]
  },
  {
   "cell_type": "markdown",
   "metadata": {},
   "source": [
    "-------------------------------"
   ]
  },
  {
   "cell_type": "markdown",
   "metadata": {},
   "source": [
    "### PROBLEM I - Heap (30 POINTS)"
   ]
  },
  {
   "cell_type": "markdown",
   "metadata": {},
   "source": [
    "### I.1 Max Heap (5점)"
   ]
  },
  {
   "cell_type": "markdown",
   "metadata": {},
   "source": [
    "**Max heap**으로 binary heap ```BinHeap``` class를 구현하시오."
   ]
  },
  {
   "cell_type": "markdown",
   "metadata": {},
   "source": [
    "### NOTE\n",
    "\n",
    ">- ```assignment5.py``` 파일의 ```BinHeap``` class에 code를 작성할 것."
   ]
  },
  {
   "cell_type": "markdown",
   "metadata": {},
   "source": [
    "### I.2 - Find median (20점)"
   ]
  },
  {
   "cell_type": "markdown",
   "metadata": {},
   "source": [
    "임의의 정수 $n$개를 원소로 가지는 list ```lst```가 있다. $i$가 $1$부터 $n$까지 변할 때, sublist ```lst[0:i]```의 중앙값을 찾는 ```find_median```함수를 완성하시오.  \n",
    "\n",
    "\n",
    "### Example\n",
    "\n",
    "```lst = [4, 2, 10, 7]``` 일 때, \n",
    "> * [4]의 중앙값: 4\n",
    "> * [4, 2]의 중앙값: 2\n",
    "> * [4, 2, 10]의 중앙값: 4\n",
    "> * [4, 2, 10, 7]의 중앙값: 4\n",
    "\n",
    "### NOTE\n",
    "> * ```BinHeap```을 이용할 것.\n",
    "> * 모든 sublist에 대한 중앙값을 print할 것.\n",
    "> * $i$가 짝수일 경우, 중간에 있는 두 수 중 작은 수를 print.  \n",
    "> * list의 성분이 하나인 경우, 그 값을 print.\n",
    "> * Time complexity는 $\\mathcal{O}(n \\log n)$이하가 되도록 할 것.\n",
    "> * ```assignment5.py```파일의 ```find_median```함수에 code를 작성할 것."
   ]
  },
  {
   "cell_type": "code",
   "execution_count": 25,
   "metadata": {},
   "outputs": [
    {
     "name": "stdout",
     "output_type": "stream",
     "text": [
      "input list : [19, 23, 97, 51, 61, 38, 49, 13, 52, 79]\n",
      "19\n",
      "19\n",
      "23\n",
      "23\n",
      "51\n",
      "38\n",
      "49\n",
      "38\n",
      "49\n",
      "49\n"
     ]
    }
   ],
   "source": [
    "from assignment5 import find_median\n",
    "\n",
    "lst = [19, 23, 97, 51, 61, 38, 49, 13, 52, 79]\n",
    "print(f\"input list : {lst}\")\n",
    "find_median(lst)"
   ]
  },
  {
   "cell_type": "markdown",
   "metadata": {},
   "source": [
    "### I.2 Describe and discuss your answer (5점)"
   ]
  },
  {
   "cell_type": "markdown",
   "metadata": {},
   "source": [
    "big-$\\mathcal{O}$를 이용하여 작성한 code의 time complexity를 분석하시오."
   ]
  },
  {
   "cell_type": "markdown",
   "metadata": {},
   "source": [
    " 주어진 lst의 item을 하나씩 Heap에 넣기 때문에 전체적으로 n번 실행한다. O(nlog(n))이하를 만족하기 위해서는 n번 반복되는 for문 안에서 O(log(n))이하를 만족해야한다.\n",
    " - 두 개의 Max heap을 정의해 위 문제를 해결하였다.left_heap의 최대값이 중앙값이 되도록하고, left_heap의 최대값보다 큰 값들을 right_heap에 넣어주었는데 right_heap.del_max()의 return값이 최소값이 되어야 하므로 right_heap에 값을 insert할 때 -1을 곱해주어 전체적인 순서가 반대로 되도록했다.\n",
    " - find_median(lst)에서 lst의 크기가 1일 경우에는, for문이 한 번 반복되고 insert가 한번 수행되기 때문에 O(nlog(n))이하이다.\n",
    " - find_median(lst)에서 lst의 크기가 n(n>=2)일 경우에는, for문이 n번 반복된다. for문 안에서는 insert, del_max, insert가 수행되기 때문에 3*log(n)의 complexity를 가진다. 따라서 전체적으로 O(nlog(n))의 time complexity이다."
   ]
  },
  {
   "cell_type": "markdown",
   "metadata": {},
   "source": [
    "-------------------------------"
   ]
  },
  {
   "cell_type": "markdown",
   "metadata": {},
   "source": [
    "### PROBLEM II -  Splay Tree (70 POINTS)"
   ]
  },
  {
   "cell_type": "markdown",
   "metadata": {},
   "source": [
    "Splay tree는 Binary Search Tree(BST)의 한 종류이다. Splay tree는 **splay**라 부르는 rotation을 사용하여 특정 작업을 수행한 node를 root node로 만든다. Splay 연산의 이러한 특징 덕에, splay tree를 이용하면 구간 합, k 번째 원소 찾기 등의 문제를 빠르게 해결할 수 있다. Splay tree는 insert, delete, find 등을 amortized $\\mathcal{O}(\\log n)$에 처리가 가능하며 구현이 간단하다. \n",
    "\n",
    "Splay tree는 BST property를 만족하고, 다음과 같은 연산이 가능하다."
   ]
  },
  {
   "cell_type": "markdown",
   "metadata": {},
   "source": [
    "### 1. Splay"
   ]
  },
  {
   "cell_type": "markdown",
   "metadata": {},
   "source": [
    "**Splay**는 rotate를 이용하여 현재 node를 root로 만드는 연산이다. Tree의 구조에 따른 rotate는 **zig**, **zig-zig**, **zig-zag** 세 가지 step으로 구성된다. 이 3가지 step과 rotate의 정의는 다음과 같다."
   ]
  },
  {
   "cell_type": "markdown",
   "metadata": {},
   "source": [
    "### $\\bullet$ Rotate"
   ]
  },
  {
   "cell_type": "markdown",
   "metadata": {},
   "source": [
    "<img src = \"http://drive.google.com/uc?export=view&id=1RhEUitnIrx7UN6_QSSg9wWjNE5LkC3Cc\" alt=\"add_attribute\" width=\"800\">"
   ]
  },
  {
   "cell_type": "markdown",
   "metadata": {},
   "source": [
    "그림에서 **X**는 현재 node, **P**는 **X**의 parent, **A**, **B**, **C**는 subtree를 나타낸다. rotate(**X**)는 **X** node의 위치를 **X**의 parent node의 위치와 바꾸는 연산을 수행한다."
   ]
  },
  {
   "cell_type": "markdown",
   "metadata": {},
   "source": [
    "### $\\bullet$  Zig step"
   ]
  },
  {
   "cell_type": "markdown",
   "metadata": {},
   "source": [
    "Rotate의 예시 그림과 같이, 현재 node의 grand parent node(parent의 parent node)가 존재하지 않는 경우 rotate(**X**) 하는 것을 **Zig-step**이라 한다."
   ]
  },
  {
   "cell_type": "markdown",
   "metadata": {},
   "source": [
    "### $\\bullet$ Zig-Zig step"
   ]
  },
  {
   "cell_type": "markdown",
   "metadata": {},
   "source": [
    "<img src = \"http://drive.google.com/uc?export=view&id=1dsNMNEHJjbJOTJaVZw2xASbp28Ihtt1b\" alt=\"add_attribute\" width=\"800\">"
   ]
  },
  {
   "cell_type": "markdown",
   "metadata": {},
   "source": [
    "그림에서 **X**는 현재 node를, **P**는 **X**의 parent를, **G**는 parent의 parent(grand parent)를, **A**, **B**, **C**, **D**는 subtree를 나타낸다. 현재 node의 grand parent node가 존재하며, 현재 node와 현재 node의 parent가 둘 다 left child이거나 right child이면 rotate(**P**)를 수행한 후 rotate(**X**)를 수행한다. "
   ]
  },
  {
   "cell_type": "markdown",
   "metadata": {},
   "source": [
    "### $\\bullet$ Zig-Zag step"
   ]
  },
  {
   "cell_type": "markdown",
   "metadata": {},
   "source": [
    "<img src = \"http://drive.google.com/uc?export=view&id=1UNO6GUV8b6ceHby0bqvFPwY0FpZRTjLh\" alt=\"add_attribute\" width=\"800\">"
   ]
  },
  {
   "cell_type": "markdown",
   "metadata": {},
   "source": [
    "그림에서 **X**는 현재 node를, **P**는 **X**의 parent node를, **G**는 parent의 parent(grand parent)node를, **A**, **B**, **C**, **D**는 subtree를 나타낸다. 현재 node의 grand parent node가 존재할 때,  \n",
    ">- 현재 node는 left child, parent node는 right child\n",
    ">- 현재 node는 right child, parent node는 left child  \n",
    "\n",
    "라면 rotate(**X**)를 두 번 수행한다.  \n",
    "\n",
    "****  \n",
    "  \n",
    "**X**는 현재 node, **P**는 **X**의 parent, **G**는 parent의 parent(grand parent)일 때, splay 연산을 이용하여 특정 node **X**를 root로 옮기는 과정은 다음과 같다.  \n",
    "> 1. **X**가 root라면 종료한다.\n",
    "> 2. **P**가 root라면 (**G**가 존재하지 않는다면) rotate(**X**)를 수행한다. (**Zig-step**)\n",
    "> 3. **G**가 존재할 때 **G** $\\rightarrow$ **P**와 **P** $\\rightarrow$ **X**의 방향이 같다면 (i.e., **P**는 **G**의 left child이고 **X**도 **P**의 left child인 경우) rotate(**P**), rotate(**X**)를 차례로 수행한다. (**Zig-Zig step**)\n",
    "> 4. **G** $\\rightarrow$ **P**와 **P** $\\rightarrow$ **X**의 방향이 다르다면, rotate(**X**)를 두번 수행한다. (**Zig-Zag step**)\n",
    "> 5. **X**가 root가 될 때까지 반복한다.  \n",
    "\n"
   ]
  },
  {
   "cell_type": "markdown",
   "metadata": {},
   "source": [
    "### 2. Insert"
   ]
  },
  {
   "cell_type": "markdown",
   "metadata": {},
   "source": [
    "BST property를 만족하도록 새로운 key를 insert할 위치를 찾는다. 이 위치에 새 node를 insert하고, 이 node를 splay한다.  \n",
    "\n",
    ">- insert 하고자 하는 key와 같은 key를 가진 node가 있다면, right subtree에 insert한다."
   ]
  },
  {
   "cell_type": "markdown",
   "metadata": {},
   "source": [
    "### 3. Find"
   ]
  },
  {
   "cell_type": "markdown",
   "metadata": {},
   "source": [
    "찾고자 하는 key를 가진 node를 찾은 후, 이 node를 splay한다.\n",
    ">- find는 BST와 같은 방식으로 진행한다.\n",
    ">- tree에 key가 없는 경우, searching이 끝난 상태의 current node를 splay한다. (splay(**X**))"
   ]
  },
  {
   "cell_type": "markdown",
   "metadata": {},
   "source": [
    "### 4. Delete"
   ]
  },
  {
   "cell_type": "markdown",
   "metadata": {},
   "source": [
    "삭제할 node를 찾은 후 splay한다. 이후, 다음과 같은 과정을 거친다.  \n",
    ">- Root의 child가 없는 경우 root node를 삭제한다. Root의 child가 한 개 있는 경우 root node를 삭제하고 child를 root로 설정한다.\n",
    ">- Root가 left child, right child를 모두 가지고 있는 경우, left subtree의 가장 큰 key 값을 가진 node를 기준으로 splay하고 right subtree를 root의 right child로 만든다.\n",
    ">- Tree에 삭제할 key가 없는 경우, searching이 끝난 상태의 current node를 splay한다. (splay(**X**))"
   ]
  },
  {
   "cell_type": "markdown",
   "metadata": {},
   "source": [
    "### 5. Traversal"
   ]
  },
  {
   "cell_type": "markdown",
   "metadata": {},
   "source": [
    "구현할 splay tree는 아래 3가지 방법의 traversal이 가능해야 한다.\n",
    "> - Pre-order\n",
    "> - Post-order\n",
    "> - In-order  "
   ]
  },
  {
   "cell_type": "markdown",
   "metadata": {},
   "source": [
    "위 설명을 참고하여 **Traversal**, **Insert**, **Find**, **Delete**, **Splay**연산이 가능한 ```SplayTree``` class를 완성하시오."
   ]
  },
  {
   "cell_type": "markdown",
   "metadata": {},
   "source": [
    "### NOTE"
   ]
  },
  {
   "cell_type": "markdown",
   "metadata": {},
   "source": [
    "> - ```Node``` class를 사용할 것.\n",
    "> - ```Node``` class 는 수정하지 말 것.\n",
    "> - 필요하다면 ```SplayTree```에 추가적인 method 구현 가능. 단, **method를 추가할 경우 주석으로 상세하게 설명할 것**.\n",
    "> - 외부 library는 사용 불가.\n",
    "> - ```assignment5.py```파일의 ```SplayTree``` class에 code를 작성할 것."
   ]
  },
  {
   "cell_type": "code",
   "execution_count": 26,
   "metadata": {},
   "outputs": [],
   "source": [
    "from assignment5 import SplayTree"
   ]
  },
  {
   "cell_type": "code",
   "execution_count": 27,
   "metadata": {},
   "outputs": [],
   "source": [
    "def print_tree(tree_node, level=0):\n",
    "    if isinstance(tree_node, SplayTree):\n",
    "        tree_node = tree_node.root\n",
    "        \n",
    "    if tree_node == None:\n",
    "        return\n",
    "    \n",
    "    if level != 0:\n",
    "        print(\"           \", end='')\n",
    "        if tree_node.parent.left_child == tree_node:\n",
    "            print(\"             \"*(level - 1) + '_____(L)' + '[{:2d}]'.format(tree_node.key))\n",
    "        else:\n",
    "            print(\"             \"*(level - 1) + '_____(R)' + '[{:2d}]'.format(tree_node.key))\n",
    "    else:\n",
    "        print('\\n----- Printing tree structure -----')\n",
    "        print('(Root)[{:2d}]'.format(tree_node.key))\n",
    "        \n",
    "    print_tree(tree_node.right_child, level + 1)\n",
    "    print_tree(tree_node.left_child, level + 1)"
   ]
  },
  {
   "cell_type": "code",
   "execution_count": 28,
   "metadata": {},
   "outputs": [],
   "source": [
    "tree = SplayTree()"
   ]
  },
  {
   "cell_type": "code",
   "execution_count": 29,
   "metadata": {},
   "outputs": [
    {
     "name": "stdout",
     "output_type": "stream",
     "text": [
      "\n",
      "----- Printing tree structure -----\n",
      "(Root)[23]\n"
     ]
    }
   ],
   "source": [
    "tree.insert(23)\n",
    "print_tree(tree)"
   ]
  },
  {
   "cell_type": "code",
   "execution_count": 30,
   "metadata": {},
   "outputs": [
    {
     "name": "stdout",
     "output_type": "stream",
     "text": [
      "\n",
      "----- Printing tree structure -----\n",
      "(Root)[30]\n",
      "           _____(L)[23]\n"
     ]
    }
   ],
   "source": [
    "tree.insert(30)\n",
    "print_tree(tree)"
   ]
  },
  {
   "cell_type": "code",
   "execution_count": 31,
   "metadata": {},
   "outputs": [
    {
     "name": "stdout",
     "output_type": "stream",
     "text": [
      "\n",
      "----- Printing tree structure -----\n",
      "(Root)[45]\n",
      "           _____(L)[30]\n",
      "                        _____(L)[23]\n"
     ]
    }
   ],
   "source": [
    "tree.insert(45)\n",
    "print_tree(tree)"
   ]
  },
  {
   "cell_type": "code",
   "execution_count": 32,
   "metadata": {},
   "outputs": [
    {
     "name": "stdout",
     "output_type": "stream",
     "text": [
      "\n",
      "----- Printing tree structure -----\n",
      "(Root)[ 1]\n",
      "           _____(R)[45]\n",
      "                        _____(L)[23]\n",
      "                                     _____(R)[30]\n"
     ]
    }
   ],
   "source": [
    "tree.insert(1)\n",
    "print_tree(tree)"
   ]
  },
  {
   "cell_type": "code",
   "execution_count": 33,
   "metadata": {},
   "outputs": [
    {
     "name": "stdout",
     "output_type": "stream",
     "text": [
      "\n",
      "----- Printing tree structure -----\n",
      "(Root)[21]\n",
      "           _____(R)[23]\n",
      "                        _____(R)[45]\n",
      "                                     _____(L)[30]\n",
      "           _____(L)[ 1]\n"
     ]
    }
   ],
   "source": [
    "tree.insert(21)\n",
    "print_tree(tree)"
   ]
  },
  {
   "cell_type": "code",
   "execution_count": 34,
   "metadata": {},
   "outputs": [
    {
     "name": "stdout",
     "output_type": "stream",
     "text": [
      "\n",
      "----- Printing tree structure -----\n",
      "(Root)[38]\n",
      "           _____(R)[45]\n",
      "           _____(L)[23]\n",
      "                        _____(R)[30]\n",
      "                        _____(L)[21]\n",
      "                                     _____(L)[ 1]\n"
     ]
    }
   ],
   "source": [
    "tree.insert(38)\n",
    "print_tree(tree)"
   ]
  },
  {
   "cell_type": "code",
   "execution_count": 35,
   "metadata": {},
   "outputs": [
    {
     "name": "stdout",
     "output_type": "stream",
     "text": [
      "\n",
      "----- Printing tree structure -----\n",
      "(Root)[ 9]\n",
      "           _____(R)[23]\n",
      "                        _____(R)[38]\n",
      "                                     _____(R)[45]\n",
      "                                     _____(L)[30]\n",
      "                        _____(L)[21]\n",
      "           _____(L)[ 1]\n"
     ]
    }
   ],
   "source": [
    "tree.insert(9)\n",
    "print_tree(tree)"
   ]
  },
  {
   "cell_type": "code",
   "execution_count": 36,
   "metadata": {},
   "outputs": [
    {
     "name": "stdout",
     "output_type": "stream",
     "text": [
      "\n",
      "----- Printing tree structure -----\n",
      "(Root)[16]\n",
      "           _____(R)[21]\n",
      "                        _____(R)[23]\n",
      "                                     _____(R)[38]\n",
      "                                                  _____(R)[45]\n",
      "                                                  _____(L)[30]\n",
      "           _____(L)[ 9]\n",
      "                        _____(L)[ 1]\n"
     ]
    }
   ],
   "source": [
    "tree.insert(16)\n",
    "print_tree(tree)"
   ]
  },
  {
   "cell_type": "code",
   "execution_count": 37,
   "metadata": {},
   "outputs": [
    {
     "name": "stdout",
     "output_type": "stream",
     "text": [
      "\n",
      "----- Printing tree structure -----\n",
      "(Root)[ 4]\n",
      "           _____(R)[16]\n",
      "                        _____(R)[21]\n",
      "                                     _____(R)[23]\n",
      "                                                  _____(R)[38]\n",
      "                                                               _____(R)[45]\n",
      "                                                               _____(L)[30]\n",
      "                        _____(L)[ 9]\n",
      "           _____(L)[ 1]\n"
     ]
    }
   ],
   "source": [
    "tree.insert(4)\n",
    "print_tree(tree)"
   ]
  },
  {
   "cell_type": "code",
   "execution_count": 38,
   "metadata": {
    "scrolled": false
   },
   "outputs": [
    {
     "name": "stdout",
     "output_type": "stream",
     "text": [
      "\n",
      "----- Printing tree structure -----\n",
      "(Root)[23]\n",
      "           _____(R)[38]\n",
      "                        _____(R)[45]\n",
      "                        _____(L)[30]\n",
      "           _____(L)[ 4]\n",
      "                        _____(R)[21]\n",
      "                                     _____(L)[16]\n",
      "                                                  _____(L)[ 9]\n",
      "                        _____(L)[ 1]\n"
     ]
    }
   ],
   "source": [
    "tree.find(23)\n",
    "print_tree(tree)"
   ]
  },
  {
   "cell_type": "code",
   "execution_count": 39,
   "metadata": {
    "scrolled": true
   },
   "outputs": [
    {
     "name": "stdout",
     "output_type": "stream",
     "text": [
      "\n",
      "----- Printing tree structure -----\n",
      "(Root)[38]\n",
      "           _____(L)[23]\n",
      "                        _____(R)[30]\n",
      "                        _____(L)[ 4]\n",
      "                                     _____(R)[21]\n",
      "                                                  _____(L)[16]\n",
      "                                                               _____(L)[ 9]\n",
      "                                     _____(L)[ 1]\n"
     ]
    }
   ],
   "source": [
    "tree.delete(45)\n",
    "print_tree(tree)"
   ]
  },
  {
   "cell_type": "code",
   "execution_count": 40,
   "metadata": {},
   "outputs": [
    {
     "name": "stdout",
     "output_type": "stream",
     "text": [
      "\n",
      "----- Printing tree structure -----\n",
      "(Root)[23]\n",
      "           _____(R)[30]\n",
      "           _____(L)[ 4]\n",
      "                        _____(R)[21]\n",
      "                                     _____(L)[16]\n",
      "                                                  _____(L)[ 9]\n",
      "                        _____(L)[ 1]\n"
     ]
    }
   ],
   "source": [
    "tree.delete(38)\n",
    "print_tree(tree)"
   ]
  },
  {
   "cell_type": "code",
   "execution_count": 41,
   "metadata": {},
   "outputs": [
    {
     "name": "stdout",
     "output_type": "stream",
     "text": [
      "<assignment5.Node object at 0x7f06f822f220>\n",
      "\n",
      "----- Printing tree structure -----\n",
      "(Root)[16]\n",
      "           _____(R)[23]\n",
      "                        _____(R)[30]\n",
      "           _____(L)[ 4]\n",
      "                        _____(R)[ 9]\n",
      "                        _____(L)[ 1]\n"
     ]
    }
   ],
   "source": [
    "tree.delete(21)\n",
    "print_tree(tree)"
   ]
  },
  {
   "cell_type": "code",
   "execution_count": 42,
   "metadata": {},
   "outputs": [
    {
     "name": "stdout",
     "output_type": "stream",
     "text": [
      "1\n",
      "4\n",
      "9\n",
      "16\n",
      "23\n",
      "30\n"
     ]
    }
   ],
   "source": [
    "tree.in_order(tree.root)"
   ]
  },
  {
   "cell_type": "code",
   "execution_count": 43,
   "metadata": {},
   "outputs": [
    {
     "name": "stdout",
     "output_type": "stream",
     "text": [
      "16\n",
      "4\n",
      "1\n",
      "9\n",
      "23\n",
      "30\n"
     ]
    }
   ],
   "source": [
    "tree.pre_order(tree.root)"
   ]
  },
  {
   "cell_type": "code",
   "execution_count": 44,
   "metadata": {},
   "outputs": [
    {
     "name": "stdout",
     "output_type": "stream",
     "text": [
      "1\n",
      "9\n",
      "4\n",
      "30\n",
      "23\n",
      "16\n"
     ]
    }
   ],
   "source": [
    "tree.post_order(tree.root)"
   ]
  },
  {
   "cell_type": "markdown",
   "metadata": {},
   "source": [
    "### Describe and Discuss your answer"
   ]
  },
  {
   "cell_type": "markdown",
   "metadata": {},
   "source": [
    "SplayTree class의 attribute는 self.root, method는 splay(self, node), rotateLeft(self,rotRoot),rotateRight(self,rotRoot),insert(self, key), _insert(self, key, current_node), find(self, key), delete(self, key), pre_order(self, node=None), post_order(self, node=None), in_order(self, node=None)로 구성되어있다.\n",
    "###### method\n",
    "    - splay(self, node):\n",
    "        --parent가 있는 경우\n",
    "        |    --grand parent가 있는 경우\n",
    "        |    |   --       O    (왼쪽 zig-zig)\n",
    "        |    |   |       /\n",
    "        |    |   |      O                     : grandparent node를 rotateRight 시켜주고, parent node를 rotateRight 시켜주면, zig-zig\n",
    "        |    |   |     /                        step이 완료되고, 완료된 후에 splay했던 node를 다시 recusive하게 splay(node)해준다.\n",
    "        |    |   |    O                         재귀적으로 splay를 했을 때, root node에 위치하면 함수가 종료되고 node는 root가 된다.\n",
    "        |    |   |\n",
    "        |    |   --    O       (오른쪽 zig-zig)\n",
    "        |    |   |      ＼\n",
    "        |    |   |        O                   : 위의 zig-zig과정에서 rotateRight 대신 rotateLeft를 적용시켜주고 같은 과정을 거친다.\n",
    "        |    |   |         ＼\n",
    "        |    |   |           O\n",
    "        |    |   |\n",
    "        |    |   --    O       (zig-zag)     \n",
    "        |    |   |    /   \n",
    "        |    |   |   O                        : zig-zag연산은 splay하는 node의 parent에 대해 rotateLeft 한 번, 한 번 rotate 한 후 \n",
    "        |    |   |    ＼                        변경된 parent에 대해 rotateRight를 해준다. 이후에 splay를 재귀적으로 하여 root node \n",
    "        |    |   |      O                       가 될 때까지 반복해준다.\n",
    "        |    |   |\n",
    "        |    |   --    O       (zig-zag)\n",
    "        |    |        /\n",
    "        |    |       O                        : 위의 zig-zag연산에서 rotateLeft->rotateRight 한 것을 rotateRight->rotateLeft로 한다.\n",
    "        |    |        ＼                        이후에 recursive하게 실행한다.\n",
    "        |    |          O\n",
    "        |    --grand parent가 없는 경우\n",
    "        |        --   O        (zig)\n",
    "        |        |   /                        : grandparent가 없는 경우는 root node 바로 아래에 위치한 경우이다. 따라서 zig를 한번\n",
    "        |        |  O                           실행해주는데 이 경우에는 parent node에 대해 rotateRight을 한 번 해준다.\n",
    "        |        |\n",
    "        |        -- O          (zig)\n",
    "        |            ＼                       : 위의 zig과정에서 rotateRight이 아닌 rotateLeft를 해준다.\n",
    "        |              O\n",
    "        | \n",
    "        --parent가 없는 경우\n",
    "            :root node이므로 return, 함수종료.\n",
    "    \n",
    "    - rotateLeft(self,rotRoot) \n",
    "        : \n",
    "            !(1)\n",
    "            O(rotRoot)\n",
    "           /  !(2)                             \n",
    "          ㅅ   O(newRoot)                     : rotRoot를 rotateLeft해줄 때, 변경이 생기는 부분은 ! edge 세 개이다.       \n",
    "            (3)! ＼                             !(3)은 rotRoot의 rightchild, parent 관계로 바꿔준다. !(2)는 leftchild, parent 관계로\n",
    "             ㅅ  ㅅ                             바꾼다.!(1)은 rotRoot가 root였으면 newRoot을 root로, leftchild으면 newRoot가leftchild\n",
    "                                                가 되도록, rightchild였으면 newRoot가 rightchild가 되도록해준다. 그리고 rotRoot의\n",
    "                                                parent를 newRoot의 parent가 되도록 한다.\n",
    "    - rotateRight(self,rotRoot)\n",
    "        : 위의 그림에서 거울대칭으로 그림을 이해하고 각 과정을 수행해준다. rotateLeft 대신 rotateRight를 해준다.\n",
    "    \n",
    "    - insert(self, key)\n",
    "        : root가 없을 경우에는 node를 root node로써 추가해준다. 있을 때는 _insert 함수를 실행한다.\n",
    "          - _insert(self, key, current_node)\n",
    "           : 왼쪽 아래 노드와 오른쪽 아래 노드의 대소비교를 진행하며 insert할 곳을 찾는다. key값이 같을 경우에는 오른쪽 subtree에 추가되도록 if문을 key \"<\" current.node.key 로 해준다. 왼쪽, 오른쪽에 위치할 곳을 결정하고 아래에 node가 존재할 경우 recursive하게 insert를 반복해준다. 없으면, node를 추가하고 parent node와의 관계를 정의해주고(child, parent), splay를 실행하여 root node가 되게만든다.\n",
    "             \n",
    "    - find(self, key)\n",
    "        : current를 root부터시작하며 왼쪽아래 node, 오른쪽아래 node를 비교하며 leaf node가 될 때 까지 내려간다. 중간에 값을 찾으면 그 node즉, current node를 splay한다. leaf node의 key와 찾는 key가 일치하지 않고 대소비교를 진행한 후 key가 가는 곳에 node가 없으면 방금 전의 leaf node를 splay한다. \n",
    "    \n",
    "    - delete(self, key)\n",
    "        : 우선적으로 self.find(key)를 실행해 찾는 node를 root node로 만들어준다. root node가 children이 없으면 root node를 삭제한다. root node가 has both children일 경우에는 leftsubtree, rightsubtree의 parent를 none으로 해주고, root를 삭제한다. leftsubtree에서 최대값을 찾아 splay해주고 root가 된 그 node의 rightchild를 rightsubtree로 해준다. root node가 left 혹은 right child만을 가지고 있을 경우에는 그 아래의 하나뿐인 child를 rootnode로 해준다.\n",
    "    \n",
    "    - pre_order(self, node=None): SplayTree의 root node를 입력으로 받는다. root node를 우선적으로 방문하는 방식으로 재귀적으로 traversal한다.\n",
    "    \n",
    "    - post_order(self, node=None): SplayTree의 root node를 입력으로 받는다. root node를 마지막으로 방문하는 방식으로 재귀적으로 traversal한다.\n",
    "    \n",
    "    - in_order(self, node=None): SplayTree의 root node를 입력으로 받는다. root node를 중간에 방문하는 방식으로 재귀적으로 traversal한다."
   ]
  },
  {
   "cell_type": "markdown",
   "metadata": {},
   "source": [
    "-------------------------------"
   ]
  },
  {
   "cell_type": "code",
   "execution_count": null,
   "metadata": {},
   "outputs": [],
   "source": []
  }
 ],
 "metadata": {
  "anaconda-cloud": {},
  "kernelspec": {
   "display_name": "Python 3",
   "language": "python",
   "name": "python3"
  },
  "language_info": {
   "codemirror_mode": {
    "name": "ipython",
    "version": 3
   },
   "file_extension": ".py",
   "mimetype": "text/x-python",
   "name": "python",
   "nbconvert_exporter": "python",
   "pygments_lexer": "ipython3",
   "version": "3.8.5"
  }
 },
 "nbformat": 4,
 "nbformat_minor": 1
}
