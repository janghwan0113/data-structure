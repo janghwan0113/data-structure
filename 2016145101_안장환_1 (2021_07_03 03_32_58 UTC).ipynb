{
 "cells": [
  {
   "cell_type": "markdown",
   "metadata": {},
   "source": [
    "> ### EEE2020: Data Structures & Algorithms\n",
    "\n",
    "# Assignment \\# I: Object Oriented Programming & Algorithm Analysis"
   ]
  },
  {
   "cell_type": "markdown",
   "metadata": {},
   "source": [
    "<div style=\"text-align: right\"> **Due date: March 26, 2021.** </div> \n",
    "<div style=\"text-align: right\"> **Please upload your file @ LearnUs by 7 PM.** </div> \n",
    "<br>\n",
    "<div style=\"text-align: right\"> Daesung Jeon(전대성): <a href=\"mailto:ds.jeon@yonsei.ac.kr\">ds.jeon@yonsei.ac.kr</a> \n",
    "<div style=\"text-align: right\"> Hyekang Park(박혜강): <a href=\"mailto:hyekang.park@yonsei.ac.kr\">hyekang.park@yonsei.ac.kr</a> </div>\n",
    "</div>"
   ]
  },
  {
   "cell_type": "markdown",
   "metadata": {},
   "source": [
    "-------------------------------"
   ]
  },
  {
   "cell_type": "markdown",
   "metadata": {},
   "source": [
    "\n",
    "### *Assignment Instructions:*\n",
    "1. Write a program implementing a particular algorithm to solve a given problem.\n",
    "2. You can use both Korean and Engligh for your report.\n",
    "3. Since this is your first assignment of the course, comprehensive instructions are given for particular problems.  \n",
    " However, note that this might not be the case for further assignments over the course.\n",
    "4. **Analyze the algorithm theoretically and empirically, and write discussion.** \n",
    "5. **Report your results.**  \n",
    "    - You must do assignments and labs yourself. \n",
    "    - <span style=\"color:red\">**Do not copy any part of your friends’ code.**</span>\n",
    "    - Otherwise, you will get a F grade."
   ]
  },
  {
   "cell_type": "markdown",
   "metadata": {},
   "source": [
    "-----------------"
   ]
  },
  {
   "cell_type": "markdown",
   "metadata": {},
   "source": [
    "<h2><span style=\"color:blue\">[201645101] [안장환]</span> </h2>"
   ]
  },
  {
   "cell_type": "code",
   "execution_count": 1,
   "metadata": {},
   "outputs": [
    {
     "name": "stdout",
     "output_type": "stream",
     "text": [
      "This code is written at 2021-03-22 14:33:04.957244\n"
     ]
    }
   ],
   "source": [
    "import datetime\n",
    "print(\"This code is written at \" + str(datetime.datetime.now()))"
   ]
  },
  {
   "cell_type": "markdown",
   "metadata": {},
   "source": [
    "-------------------------------"
   ]
  },
  {
   "cell_type": "markdown",
   "metadata": {},
   "source": [
    "### PROBLEM I - Class (50 POINTS)"
   ]
  },
  {
   "cell_type": "markdown",
   "metadata": {},
   "source": [
    "### Matrix"
   ]
  },
  {
   "cell_type": "markdown",
   "metadata": {},
   "source": [
    "행렬은 수, 기호, 식 등을 직사각형으로 배열한 것이다. 행렬을 구성하는 수, 기호, 식 등을 행렬의 원소라 부른다. 예를 들어, 수 1, 0, 2, -1, 3, 1을 원소로 갖는 $3\\times2$ 행렬은 다음과 같이 표현할 수 있다.\n",
    "\n",
    "$$\\begin{equation} \n",
    "    A = \n",
    "    \\begin{bmatrix}\n",
    "        1&0\\\\2&-1\\\\3&1\\\\\n",
    "    \\end{bmatrix} \n",
    "\\end{equation}$$\n",
    "\n",
    "행렬에서 **가로로 된 줄을 행(row)**, **세로로 된 줄을 열(column)**이라 한다. 따라서 위의 $3\\times2$ 행렬 $A$는 3개의 행과 2개의 열을 가지는 행렬이다. $A$의 $i$ 번째 행, $j$ 번째 열에 위치한 원소는 $A_{ij}$로 나타낸다. 예를 들어, $A_{21}=2$, $A_{32}=1$이다.\n",
    "\n",
    "$m$개의 행과 $n$개의 열로 구성된 행렬을 일반화하여 표현하면 다음과 같다. \n",
    "\n",
    "$$\n",
    "\\begin{equation}\n",
    "    A = \\begin{bmatrix}\n",
    "        A_{11}&A_{12}&A_{13}&\\cdots &A_{1n}\\\\\n",
    "        A_{21}&A_{22}&A_{23}&\\cdots &A_{2n}\\\\\n",
    "        A_{31}&A_{32}&A_{33}&\\cdots &A_{3n}\\\\\n",
    "        \\vdots &\\vdots &\\vdots &\\ddots &\\vdots \\\\\n",
    "        A_{m1}&A_{m2}&A_{m3}&\\cdots &A_{mn}\n",
    "        \\end{bmatrix}\n",
    "\\end{equation}\n",
    "$$\n",
    "\n",
    "**본 과제에서 $m \\times n$ 행렬의 shape(혹은 dimension)은 (m, n)으로 정의한다.**"
   ]
  },
  {
   "cell_type": "markdown",
   "metadata": {},
   "source": [
    "두 행렬 $A$, $B$의 dimension이 같다면 행렬 간 덧셈이 가능하다. **행렬 간 덧셈**은 다음과 같이 **같은 위치의 원소들을 더한 것**으로 정의된다.\n",
    "\n",
    "$$\n",
    "\\begin{equation}\n",
    "    \\begin{bmatrix}\n",
    "        1&3&7\\\\\n",
    "        1&0&0\n",
    "    \\end{bmatrix} +\n",
    "    \\begin{bmatrix}\n",
    "        0&0&5\\\\\n",
    "        7&5&0\n",
    "    \\end{bmatrix} = \n",
    "    \\begin{bmatrix}\n",
    "        1+0&3+0&7+5\\\\\n",
    "        1+7&0+5&0+0\n",
    "    \\end{bmatrix} =\n",
    "    \\begin{bmatrix}\n",
    "        1&3&12\\\\8&5&0\n",
    "    \\end{bmatrix}\n",
    "\\end{equation}\n",
    "$$"
   ]
  },
  {
   "cell_type": "markdown",
   "metadata": {},
   "source": [
    "본 과제에서 **행렬과 실수의 덧셈**은 다음과 같이 **행렬의 모든 원소에 실수를 더하는 것**으로 정의한다.\n",
    "\n",
    "$$\n",
    "\\begin{equation}\n",
    "    100 +\n",
    "    \\begin{bmatrix}\n",
    "        -2&3&5\\\\\n",
    "        1&5&9\n",
    "    \\end{bmatrix} = \n",
    "    \\begin{bmatrix}\n",
    "        100+(-2)&100+3&100+5\\\\\n",
    "        100+1&100+5&100+9\n",
    "    \\end{bmatrix} =\n",
    "    \\begin{bmatrix}\n",
    "        98&103&105\\\\101&105&109\n",
    "    \\end{bmatrix}\n",
    "\\end{equation}\n",
    "$$"
   ]
  },
  {
   "cell_type": "markdown",
   "metadata": {},
   "source": [
    "마찬가지로, **행렬과 실수의 곱셈(스칼라 곱)**은 다음 예시와 같이 **행렬의 모든 원소에 실수를 곱하는 것**으로 정의한다.\n",
    "\n",
    "$$\n",
    "\\begin{equation}\n",
    "    100 \n",
    "    \\begin{bmatrix}\n",
    "        -2&3&5\\\\\n",
    "        1&5&9\n",
    "    \\end{bmatrix} = \n",
    "    \\begin{bmatrix}\n",
    "        100\\times(-2)&100\\times3&100\\times5\\\\\n",
    "        100\\times1&100\\times5&100\\times9\n",
    "    \\end{bmatrix} =\n",
    "    \\begin{bmatrix}\n",
    "        -200&300&500\\\\100&500&900\n",
    "    \\end{bmatrix}\n",
    "\\end{equation}\n",
    "$$"
   ]
  },
  {
   "cell_type": "markdown",
   "metadata": {},
   "source": [
    "위의 세 연산(행렬 간 덧셈, 행렬과 실수의 덧셈, 행렬과 실수의 곱셈)은 **교환 법칙이 성립**한다."
   ]
  },
  {
   "cell_type": "markdown",
   "metadata": {},
   "source": [
    "**두 행렬 $A$, $B$의 곱 $AB$는 $A$의 열 개수가 $B$의 행 개수와 같을 때 정의**된다. $A$, $B$의 곱셈이 정의될 때, $C=AB$이면, $C_{ij}$는 다음과 같이 정의된다.\n",
    "\n",
    "$$\n",
    "\\begin{equation}\n",
    "    C_{ij}=\\sum_{k=1}^{n}A_{ik}B_{kj}=A_{i1}B_{1j}+A_{i2}B_{2j}+\\cdots A_{in}B_{nj}\n",
    "\\end{equation}\n",
    "$$"
   ]
  },
  {
   "cell_type": "markdown",
   "metadata": {},
   "source": [
    "즉, **$C_{ij}$는 $A$의 $i$ 번째 행 원소들로 구성된 벡터와 $B$의 $j$ 번째 열 원소들로 구성된 벡터를 내적한 값**이다. 행렬 간 곱셈의 예는 다음과 같다."
   ]
  },
  {
   "cell_type": "markdown",
   "metadata": {},
   "source": [
    "$$\n",
    "\\begin{equation}\n",
    "    AB=\n",
    "    \\begin{bmatrix}\n",
    "        1&0&2\\\\\n",
    "        -1&3&1\\\\\n",
    "    \\end{bmatrix}\n",
    "    \\begin{bmatrix}\n",
    "        3&1\\\\\n",
    "        2&1\\\\\n",
    "        1&0\n",
    "    \\end{bmatrix} =\n",
    "    \\begin{bmatrix}\n",
    "        1\\cdot 3+0\\cdot 2+2\\cdot 1&1\\cdot 1+0\\cdot 1+2\\cdot 0\\\\\n",
    "        -1\\cdot 3+3\\cdot 2+1\\cdot 1&-1\\cdot 1+3\\cdot 1+1\\cdot 0\n",
    "    \\end{bmatrix}=\n",
    "    \\begin{bmatrix}\n",
    "        5&1\\\\\n",
    "        4&2\n",
    "    \\end{bmatrix}\n",
    "    =C\n",
    "\\end{equation}$$"
   ]
  },
  {
   "cell_type": "markdown",
   "metadata": {},
   "source": [
    "$C_{12}$는 아래 식과 같이 $A$의 첫 번째 행벡터 $\\begin{bmatrix} 1 & 0 &2 \\end{bmatrix}$와 $B$의 두 번째 열벡터 $\\begin{bmatrix} 1 & 1& 0 \\end{bmatrix}$의 내적값을 원소로 갖는다.\n",
    "\n",
    "$$\n",
    "\\begin{equation}\n",
    "    C_{12} = A_i \\cdot B_j = \n",
    "    \\begin{bmatrix}\n",
    "        1 & 0 & 2\n",
    "    \\end{bmatrix} \\cdot\n",
    "    \\begin{bmatrix}\n",
    "        1 & 1 & 0\n",
    "    \\end{bmatrix} = 1 \\cdot 1 + 0 \\cdot 1 + 2 \\cdot 0 = 1\n",
    "\\end{equation}\n",
    "$$"
   ]
  },
  {
   "cell_type": "markdown",
   "metadata": {},
   "source": [
    "행렬의 비교는 두 행렬의 shape(dimension)이 같은 경우에만 정의된다. 즉 실수와 행렬의 비교, 서로 다른 shape(dimension)을 가진 행렬의 비교는 성립하지 않는다."
   ]
  },
  {
   "cell_type": "markdown",
   "metadata": {},
   "source": [
    "위의 설명을 참고하여 아래의 조건을 만족하는 ```Matrix``` 클래스를 완성하시오."
   ]
  },
  {
   "cell_type": "markdown",
   "metadata": {},
   "source": [
    "### Conditions\n",
    "1. ```Matrix``` 클래스는 2-dimensional list(double list)를 argument로 하여 행렬을 표현한다. \n",
    "2. ```__init__``` 메소드(constructor)에서 object attribute로 행렬의 row vectors와 shape(dimension)을 결정한다. 예를 들어, ```Matrix([[1, 2, 3], [4, 5, 6]]).vectors```와 ```Matrix([[1, 2, 3], [4, 5, 6]]).shape```의 반환 값은 다음과 같다.\n",
    "> ```[[1, 2, 3], [4, 5, 6]]```, ```(2, 3)```\n",
    "3. ```print```를 사용했을 때 직사각형 행렬 꼴로 출력한다. 예를 들어, ```print(Matrix([[1, 2, 3], [4, 5, 6]]))```의 출력은 다음과 같다.\n",
    "> ```[[1, 2, 3]\n",
    "     [4, 5, 6]]```\n",
    "4. ```len()```함수를 이용 했을 때, row vector의 개수를 반환하도록 한다. 예를 들어, ```len(Matrix([[1, 2, 3], [4, 5, 6]]))```의 반환 값은 다음과 같다.\n",
    "> ```2```\n",
    "5. ```Matrix``` class의 object는 다음을 만족해야 한다.\n",
    "> 1) ```+``` 연산자로 행렬 간 덧셈 및 실수와의 덧셈이 가능하다.  \n",
    "> 2) 행렬의 부호 변환(```-my_matrix```)이 가능하다.  \n",
    "> 3) ```-``` 연산자로 행렬 간 뺄셈 및 실수와의 뺄셈이 가능하다.  \n",
    "> 4) ```*``` 연산자로 행렬 간 곱셈 및 실수와의 곱셈이 가능하다.  \n",
    "> 5) 교환 법칙이 성립하는 연산의 경우, 이를 표현할 수 있다.  \n",
    "> 6) ```/``` 연산자로 행렬의 원소를 실수로 나누는 연산이 가능하다.  \n",
    "> 7) ```==``` 와 ```!=``` 연산자로 object 간 비교가 가능하다.  \n",
    "> 8) 연산이 불가능한 경우 error message를 출력한다.  \n",
    "> 9) 비교를 제외한 모든 연산의 결과는 ```Matrix``` class이다. 즉, ```(type(result_matrix) == Matrix) = True```이다.\n",
    "\n",
    "\n",
    "### NOTE\n",
    "\n",
    "* *Numpy등의 외부 라이브러리는 사용하지 않는다 (사용 시 해당 문항 0점).*\n",
    "\n",
    "* 필요할 경우 명시된 attribute 외의 object attribute를 선언 및 사용할 수 있다.\n",
    "\n",
    "### HINT\n",
    "* ```isinstance(object, type)``` 함수는 ```object```가 주어진 ```type```과 일치하면 ```True``` 그렇지 않으면 ```False```를 반환하는 함수이다. \n",
    "> ```int``` 혹은 ```float``` 변수 num에 대해 ```isinstance(num, (int, float)) = True```.\n",
    "* ```__radd__(), __rmul__()```등을 응용하면 교환 법칙이 성립하도록 할 수 있다.\n"
   ]
  },
  {
   "cell_type": "code",
   "execution_count": 33,
   "metadata": {},
   "outputs": [],
   "source": [
    "import copy\n",
    "\n",
    "class Matrix:\n",
    "    def __init__(self, vectors):\n",
    "        assert isinstance(vectors, list), 'Input argument must be a list.'\n",
    "        assert all([isinstance(vector, list) for vector in vectors]), 'Row vectors must be a list.'\n",
    "        assert all(len(vector) == len(vectors[0]) for vector in vectors), 'Row vectors must have the same length.'\n",
    "        # 2 points\n",
    "        ### CODE HERE ###\n",
    "        self.vectors=vectors\n",
    "        self.shape=(len(vectors),len(vectors[0]))\n",
    "        #################\n",
    "    \n",
    "    def __str__(self):\n",
    "        # 3 points\n",
    "        ### CODE HERE ###\n",
    "        str_matrix=\"\\n\".join(str(vec) for vec in self.vectors)\n",
    "        return \"[\"+str_matrix+\"]\"\n",
    "        #################\n",
    "    \n",
    "    def __len__(self):\n",
    "        # 1 points\n",
    "        ### CODE HERE ###\n",
    "        return len(self.vectors)\n",
    "        #################\n",
    "    \n",
    "    def __add__(self, other):\n",
    "        # 10 points\n",
    "        ### CODE HERE ###\n",
    "        result=copy.deepcopy(self)\n",
    "        \n",
    "        assert isinstance(other, (int, float)) or (type(other)==Matrix or type(other)==Vector) and result.shape==other.shape, 'Recheck the adding part' \n",
    "        \n",
    "        if isinstance(other, (int, float)):\n",
    "            for vec in result.vectors:\n",
    "                for i in range(len(vec)):\n",
    "                    vec[i]+=other\n",
    "        elif (type(other)==Matrix or type(other)==Vector) and result.shape==other.shape:\n",
    "            for i in range(len(result.vectors)):\n",
    "                for j in range(len(result.vectors[0])):\n",
    "                    result.vectors[i][j]+=other.vectors[i][j]\n",
    "        \n",
    "        return result\n",
    "        #################\n",
    "    \n",
    "    def __radd__(self, other):\n",
    "        # 1 points\n",
    "        ### CODE HERE ###\n",
    "        result=copy.deepcopy(self)\n",
    "        \n",
    "        assert isinstance(other, (int, float)) or (type(other)==Matrix or type(other)==Vector) and result.shape==other.shape, 'Recheck the adding part' \n",
    "        \n",
    "        if isinstance(other, (int, float)):\n",
    "            for vec in result.vectors:\n",
    "                for i in range(len(vec)):\n",
    "                    vec[i]+=other\n",
    "        elif (type(other)==Matrix or type(other)==Vector) and result.shape==other.shape:\n",
    "            for i in range(len(result.vectors)):\n",
    "                for j in range(len(result.vectors[0])):\n",
    "                    result.vectors[i][j]+=other.vectors[i][j]\n",
    "        \n",
    "        return result\n",
    "        #################\n",
    "        \n",
    "    def __mul__(self, other):\n",
    "        # 15 points\n",
    "        ### CODE HERE ###\n",
    "        result=copy.deepcopy(self)\n",
    "        \n",
    "        assert isinstance(other, (int, float)) or (type(other)==Matrix or type(other)==Vector) and result.shape[1]==other.shape[0], 'Recheck the multiplying part' \n",
    "\n",
    "        if isinstance(other, (int, float)):\n",
    "            for vec in result.vectors:\n",
    "                for i in range(len(vec)):\n",
    "                    vec[i]*=other\n",
    "        elif type(other)==Matrix and self.shape[1]==other.shape[0]:\n",
    "            result.vectors = [[sum(a*b for a,b in zip(X_row,Y_col)) for Y_col in zip(*other.vectors)] for X_row in self.vectors]\n",
    "        \n",
    "        return result\n",
    "        #################\n",
    "        \n",
    "    def __rmul__(self, other):\n",
    "        # 1 points\n",
    "        ### CODE HERE ###\n",
    "        result=copy.deepcopy(self)\n",
    "        \n",
    "        assert isinstance(other, (int, float)), 'Recheck multiplying part'\n",
    "        \n",
    "        if isinstance(other, (int, float)):\n",
    "            for vec in result.vectors:\n",
    "                for i in range(len(vec)):\n",
    "                    vec[i]*=other\n",
    "                       \n",
    "        return result\n",
    "        \n",
    "        #################\n",
    "    \n",
    "    def __neg__(self):\n",
    "        # 1 points\n",
    "        ### CODE HERE ###\n",
    "        result=copy.deepcopy(self)\n",
    "        for vec in result.vectors:\n",
    "            for i in range(len(vec)):\n",
    "                vec[i]=(-1)*vec[i]\n",
    "                \n",
    "        return result\n",
    "        #################\n",
    "        \n",
    "    def __sub__(self, other):\n",
    "        # 5 points\n",
    "        ### CODE HERE ###\n",
    "        result=copy.deepcopy(self)\n",
    "        \n",
    "        assert isinstance(other, (int, float)) or (type(other)==Matrix or type(other)==Vector) and result.shape==other.shape, 'Recheck the subtract part'\n",
    "        \n",
    "        if isinstance(other, (int, float)):\n",
    "            for vec in result.vectors:\n",
    "                for i in range(len(vec)):\n",
    "                    vec[i]-=other\n",
    "        elif (type(other)==Matrix or type(other)==Vector) and result.shape==other.shape:\n",
    "            for i in range(len(result.vectors)):\n",
    "                for j in range(len(result.vectors[0])):\n",
    "                    result.vectors[i][j]-=other.vectors[i][j]\n",
    "                    \n",
    "        return result\n",
    "        #################\n",
    "        \n",
    "    def __rsub__(self, other):\n",
    "        # 1 points\n",
    "        ### CODE HERE ###\n",
    "        result=copy.deepcopy(self)\n",
    "        if isinstance(other, (int, float)):\n",
    "            for vec in result.vectors:\n",
    "                for i in range(len(vec)):\n",
    "                    vec[i]=other-vec[i]\n",
    "                    \n",
    "        return result\n",
    "        #################\n",
    "    \n",
    "    def __truediv__(self, other):\n",
    "        # 1 points\n",
    "        ### CODE HERE ###\n",
    "        result=copy.deepcopy(self)\n",
    "        if isinstance(other, (int, float)):\n",
    "            for vec in result.vectors:\n",
    "                for i in range(len(vec)):\n",
    "                    vec[i]/=other\n",
    "                    \n",
    "        return result\n",
    "        #################\n",
    "    \n",
    "    def __eq__(self, other):\n",
    "        # 2 points\n",
    "        ### CODE HERE ###  \n",
    "        if (type(other)==Matrix or type(other)==Vector) and self.shape==other.shape:\n",
    "            for i in range(len(self.vectors)):\n",
    "                for j in range(len(self.vectors[0])):\n",
    "                    if self.vectors[i][j]!=other.vectors[i][j]:\n",
    "                        return False\n",
    "            return True\n",
    "        #################\n",
    "    \n",
    "    def __ne__(self, other):\n",
    "        # 2 points\n",
    "        ### CODE HERE ###\n",
    "        if (type(other)==Matrix or type(other)==Vector) and self.shape==other.shape:\n",
    "            for i in range(len(self.vectors)):\n",
    "                for j in range(len(self.vectors[0])):\n",
    "                    if self.vectors[i][j]!=other.vectors[i][j]:\n",
    "                        return True\n",
    "            return False\n",
    "        #################\n",
    "   "
   ]
  },
  {
   "cell_type": "code",
   "execution_count": 34,
   "metadata": {},
   "outputs": [],
   "source": [
    "my_matrix1 = Matrix([[1, 2, 3], [4, 5, 6], [7, 8, 9]])\n",
    "my_matrix2 = Matrix([[1, 1, 1], [2, 2, 2], [3, 3, 3]])\n",
    "my_matrix3 = Matrix([[10, 20], [30, 40], [50, 60]])"
   ]
  },
  {
   "cell_type": "code",
   "execution_count": 35,
   "metadata": {
    "scrolled": true
   },
   "outputs": [
    {
     "name": "stdout",
     "output_type": "stream",
     "text": [
      "[[1, 2, 3]\n",
      "[4, 5, 6]\n",
      "[7, 8, 9]]\n",
      "[[1, 1, 1]\n",
      "[2, 2, 2]\n",
      "[3, 3, 3]]\n",
      "[[10, 20]\n",
      "[30, 40]\n",
      "[50, 60]]\n"
     ]
    }
   ],
   "source": [
    "print(my_matrix1)\n",
    "print(my_matrix2)\n",
    "print(my_matrix3)"
   ]
  },
  {
   "cell_type": "code",
   "execution_count": 36,
   "metadata": {},
   "outputs": [
    {
     "name": "stdout",
     "output_type": "stream",
     "text": [
      "[[1, 2, 3], [4, 5, 6], [7, 8, 9]]\n",
      "(3, 2)\n",
      "True\n"
     ]
    }
   ],
   "source": [
    "print(my_matrix1.vectors)\n",
    "print(my_matrix3.shape)\n",
    "print(type(my_matrix1) == Matrix)"
   ]
  },
  {
   "cell_type": "code",
   "execution_count": 37,
   "metadata": {},
   "outputs": [],
   "source": [
    "result1 = my_matrix1 + my_matrix2\n",
    "result2 =  my_matrix1 + 100\n",
    "result3 = 200 + my_matrix1\n",
    "result4 = 1000 * my_matrix1\n",
    "result5 = my_matrix1 * 100\n",
    "result6 = my_matrix1 * my_matrix2\n",
    "result7 = my_matrix1 * my_matrix3\n",
    "result8 = my_matrix1 / 10\n",
    "result9 = my_matrix1 - my_matrix2\n",
    "result10 =  my_matrix1 - 100\n",
    "result11 = 200 - my_matrix1\n",
    "result12 = -my_matrix2\n",
    "result13 = (my_matrix1 * my_matrix2) == (my_matrix2 * my_matrix1)\n",
    "result14 = my_matrix1 != my_matrix2"
   ]
  },
  {
   "cell_type": "code",
   "execution_count": 38,
   "metadata": {},
   "outputs": [
    {
     "name": "stdout",
     "output_type": "stream",
     "text": [
      "result1 \n",
      "\n",
      " [[2, 3, 4]\n",
      "[6, 7, 8]\n",
      "[10, 11, 12]] \n",
      "\n",
      "result2 \n",
      "\n",
      " [[101, 102, 103]\n",
      "[104, 105, 106]\n",
      "[107, 108, 109]] \n",
      "\n",
      "result3 \n",
      "\n",
      " [[201, 202, 203]\n",
      "[204, 205, 206]\n",
      "[207, 208, 209]] \n",
      "\n",
      "result4 \n",
      "\n",
      " [[1000, 2000, 3000]\n",
      "[4000, 5000, 6000]\n",
      "[7000, 8000, 9000]] \n",
      "\n",
      "result5 \n",
      "\n",
      " [[100, 200, 300]\n",
      "[400, 500, 600]\n",
      "[700, 800, 900]] \n",
      "\n",
      "result6 \n",
      "\n",
      " [[14, 14, 14]\n",
      "[32, 32, 32]\n",
      "[50, 50, 50]] \n",
      "\n",
      "result7 \n",
      "\n",
      " [[220, 280]\n",
      "[490, 640]\n",
      "[760, 1000]] \n",
      "\n",
      "result8 \n",
      "\n",
      " [[0.1, 0.2, 0.3]\n",
      "[0.4, 0.5, 0.6]\n",
      "[0.7, 0.8, 0.9]] \n",
      "\n",
      "result9 \n",
      "\n",
      " [[0, 1, 2]\n",
      "[2, 3, 4]\n",
      "[4, 5, 6]] \n",
      "\n",
      "result10 \n",
      "\n",
      " [[-99, -98, -97]\n",
      "[-96, -95, -94]\n",
      "[-93, -92, -91]] \n",
      "\n",
      "result11 \n",
      "\n",
      " [[199, 198, 197]\n",
      "[196, 195, 194]\n",
      "[193, 192, 191]] \n",
      "\n",
      "result12 \n",
      "\n",
      " [[-1, -1, -1]\n",
      "[-2, -2, -2]\n",
      "[-3, -3, -3]] \n",
      "\n",
      "result13 \n",
      "\n",
      " False \n",
      "\n",
      "result14 \n",
      "\n",
      " True \n",
      "\n"
     ]
    }
   ],
   "source": [
    "print('result1 \\n\\n', result1, '\\n')\n",
    "print('result2 \\n\\n', result2, '\\n')\n",
    "print('result3 \\n\\n', result3, '\\n')\n",
    "print('result4 \\n\\n', result4, '\\n')\n",
    "print('result5 \\n\\n', result5, '\\n')\n",
    "print('result6 \\n\\n', result6, '\\n')\n",
    "print('result7 \\n\\n', result7, '\\n')\n",
    "print('result8 \\n\\n', result8, '\\n')\n",
    "print('result9 \\n\\n', result9, '\\n')\n",
    "print('result10 \\n\\n', result10, '\\n')\n",
    "print('result11 \\n\\n', result11, '\\n')\n",
    "print('result12 \\n\\n', result12, '\\n')\n",
    "print('result13 \\n\\n', result13, '\\n')\n",
    "print('result14 \\n\\n', result14, '\\n')"
   ]
  },
  {
   "cell_type": "code",
   "execution_count": 39,
   "metadata": {
    "scrolled": false
   },
   "outputs": [
    {
     "name": "stdout",
     "output_type": "stream",
     "text": [
      "True\n",
      "True\n",
      "True\n",
      "True\n",
      "True\n",
      "True\n",
      "True\n",
      "True\n",
      "True\n",
      "True\n",
      "True\n",
      "True\n"
     ]
    }
   ],
   "source": [
    "print(type(result1) == Matrix)\n",
    "print(type(result2) == Matrix)\n",
    "print(type(result3) == Matrix)\n",
    "print(type(result4) == Matrix)\n",
    "print(type(result5) == Matrix)\n",
    "print(type(result6) == Matrix)\n",
    "print(type(result7) == Matrix)\n",
    "print(type(result8) == Matrix)\n",
    "print(type(result9) == Matrix)\n",
    "print(type(result10) == Matrix)\n",
    "print(type(result11) == Matrix)\n",
    "print(type(result12) == Matrix)"
   ]
  },
  {
   "cell_type": "code",
   "execution_count": 40,
   "metadata": {},
   "outputs": [
    {
     "ename": "AssertionError",
     "evalue": "Recheck the adding part",
     "output_type": "error",
     "traceback": [
      "\u001b[0;31m---------------------------------------------------------------------------\u001b[0m",
      "\u001b[0;31mAssertionError\u001b[0m                            Traceback (most recent call last)",
      "\u001b[0;32m<ipython-input-40-496ae712a931>\u001b[0m in \u001b[0;36m<module>\u001b[0;34m\u001b[0m\n\u001b[0;32m----> 1\u001b[0;31m \u001b[0mmy_matrix1\u001b[0m \u001b[0;34m+\u001b[0m \u001b[0;34m'my_string'\u001b[0m \u001b[0;31m# error message\u001b[0m\u001b[0;34m\u001b[0m\u001b[0;34m\u001b[0m\u001b[0m\n\u001b[0m",
      "\u001b[0;32m<ipython-input-33-d0a2873cf9d0>\u001b[0m in \u001b[0;36m__add__\u001b[0;34m(self, other)\u001b[0m\n\u001b[1;32m     30\u001b[0m         \u001b[0mresult\u001b[0m\u001b[0;34m=\u001b[0m\u001b[0mcopy\u001b[0m\u001b[0;34m.\u001b[0m\u001b[0mdeepcopy\u001b[0m\u001b[0;34m(\u001b[0m\u001b[0mself\u001b[0m\u001b[0;34m)\u001b[0m\u001b[0;34m\u001b[0m\u001b[0;34m\u001b[0m\u001b[0m\n\u001b[1;32m     31\u001b[0m \u001b[0;34m\u001b[0m\u001b[0m\n\u001b[0;32m---> 32\u001b[0;31m         \u001b[0;32massert\u001b[0m \u001b[0misinstance\u001b[0m\u001b[0;34m(\u001b[0m\u001b[0mother\u001b[0m\u001b[0;34m,\u001b[0m \u001b[0;34m(\u001b[0m\u001b[0mint\u001b[0m\u001b[0;34m,\u001b[0m \u001b[0mfloat\u001b[0m\u001b[0;34m)\u001b[0m\u001b[0;34m)\u001b[0m \u001b[0;32mor\u001b[0m \u001b[0;34m(\u001b[0m\u001b[0mtype\u001b[0m\u001b[0;34m(\u001b[0m\u001b[0mother\u001b[0m\u001b[0;34m)\u001b[0m\u001b[0;34m==\u001b[0m\u001b[0mMatrix\u001b[0m \u001b[0;32mor\u001b[0m \u001b[0mtype\u001b[0m\u001b[0;34m(\u001b[0m\u001b[0mother\u001b[0m\u001b[0;34m)\u001b[0m\u001b[0;34m==\u001b[0m\u001b[0mVector\u001b[0m\u001b[0;34m)\u001b[0m \u001b[0;32mand\u001b[0m \u001b[0mresult\u001b[0m\u001b[0;34m.\u001b[0m\u001b[0mshape\u001b[0m\u001b[0;34m==\u001b[0m\u001b[0mother\u001b[0m\u001b[0;34m.\u001b[0m\u001b[0mshape\u001b[0m\u001b[0;34m,\u001b[0m \u001b[0;34m'Recheck the adding part'\u001b[0m\u001b[0;34m\u001b[0m\u001b[0;34m\u001b[0m\u001b[0m\n\u001b[0m\u001b[1;32m     33\u001b[0m \u001b[0;34m\u001b[0m\u001b[0m\n\u001b[1;32m     34\u001b[0m         \u001b[0;32mif\u001b[0m \u001b[0misinstance\u001b[0m\u001b[0;34m(\u001b[0m\u001b[0mother\u001b[0m\u001b[0;34m,\u001b[0m \u001b[0;34m(\u001b[0m\u001b[0mint\u001b[0m\u001b[0;34m,\u001b[0m \u001b[0mfloat\u001b[0m\u001b[0;34m)\u001b[0m\u001b[0;34m)\u001b[0m\u001b[0;34m:\u001b[0m\u001b[0;34m\u001b[0m\u001b[0;34m\u001b[0m\u001b[0m\n",
      "\u001b[0;31mAssertionError\u001b[0m: Recheck the adding part"
     ]
    }
   ],
   "source": [
    "my_matrix1 + 'my_string' # error message"
   ]
  },
  {
   "cell_type": "code",
   "execution_count": 41,
   "metadata": {},
   "outputs": [
    {
     "ename": "AssertionError",
     "evalue": "Recheck the multiplying part",
     "output_type": "error",
     "traceback": [
      "\u001b[0;31m---------------------------------------------------------------------------\u001b[0m",
      "\u001b[0;31mAssertionError\u001b[0m                            Traceback (most recent call last)",
      "\u001b[0;32m<ipython-input-41-4cfc2b85811f>\u001b[0m in \u001b[0;36m<module>\u001b[0;34m\u001b[0m\n\u001b[0;32m----> 1\u001b[0;31m \u001b[0mmy_matrix3\u001b[0m \u001b[0;34m*\u001b[0m \u001b[0mmy_matrix2\u001b[0m \u001b[0;31m# error message\u001b[0m\u001b[0;34m\u001b[0m\u001b[0;34m\u001b[0m\u001b[0m\n\u001b[0m",
      "\u001b[0;32m<ipython-input-33-d0a2873cf9d0>\u001b[0m in \u001b[0;36m__mul__\u001b[0;34m(self, other)\u001b[0m\n\u001b[1;32m     68\u001b[0m         \u001b[0mresult\u001b[0m\u001b[0;34m=\u001b[0m\u001b[0mcopy\u001b[0m\u001b[0;34m.\u001b[0m\u001b[0mdeepcopy\u001b[0m\u001b[0;34m(\u001b[0m\u001b[0mself\u001b[0m\u001b[0;34m)\u001b[0m\u001b[0;34m\u001b[0m\u001b[0;34m\u001b[0m\u001b[0m\n\u001b[1;32m     69\u001b[0m \u001b[0;34m\u001b[0m\u001b[0m\n\u001b[0;32m---> 70\u001b[0;31m         \u001b[0;32massert\u001b[0m \u001b[0misinstance\u001b[0m\u001b[0;34m(\u001b[0m\u001b[0mother\u001b[0m\u001b[0;34m,\u001b[0m \u001b[0;34m(\u001b[0m\u001b[0mint\u001b[0m\u001b[0;34m,\u001b[0m \u001b[0mfloat\u001b[0m\u001b[0;34m)\u001b[0m\u001b[0;34m)\u001b[0m \u001b[0;32mor\u001b[0m \u001b[0;34m(\u001b[0m\u001b[0mtype\u001b[0m\u001b[0;34m(\u001b[0m\u001b[0mother\u001b[0m\u001b[0;34m)\u001b[0m\u001b[0;34m==\u001b[0m\u001b[0mMatrix\u001b[0m \u001b[0;32mor\u001b[0m \u001b[0mtype\u001b[0m\u001b[0;34m(\u001b[0m\u001b[0mother\u001b[0m\u001b[0;34m)\u001b[0m\u001b[0;34m==\u001b[0m\u001b[0mVector\u001b[0m\u001b[0;34m)\u001b[0m \u001b[0;32mand\u001b[0m \u001b[0mresult\u001b[0m\u001b[0;34m.\u001b[0m\u001b[0mshape\u001b[0m\u001b[0;34m[\u001b[0m\u001b[0;36m1\u001b[0m\u001b[0;34m]\u001b[0m\u001b[0;34m==\u001b[0m\u001b[0mother\u001b[0m\u001b[0;34m.\u001b[0m\u001b[0mshape\u001b[0m\u001b[0;34m[\u001b[0m\u001b[0;36m0\u001b[0m\u001b[0;34m]\u001b[0m\u001b[0;34m,\u001b[0m \u001b[0;34m'Recheck the multiplying part'\u001b[0m\u001b[0;34m\u001b[0m\u001b[0;34m\u001b[0m\u001b[0m\n\u001b[0m\u001b[1;32m     71\u001b[0m \u001b[0;34m\u001b[0m\u001b[0m\n\u001b[1;32m     72\u001b[0m         \u001b[0;32mif\u001b[0m \u001b[0misinstance\u001b[0m\u001b[0;34m(\u001b[0m\u001b[0mother\u001b[0m\u001b[0;34m,\u001b[0m \u001b[0;34m(\u001b[0m\u001b[0mint\u001b[0m\u001b[0;34m,\u001b[0m \u001b[0mfloat\u001b[0m\u001b[0;34m)\u001b[0m\u001b[0;34m)\u001b[0m\u001b[0;34m:\u001b[0m\u001b[0;34m\u001b[0m\u001b[0;34m\u001b[0m\u001b[0m\n",
      "\u001b[0;31mAssertionError\u001b[0m: Recheck the multiplying part"
     ]
    }
   ],
   "source": [
    "my_matrix3 * my_matrix2 # error message"
   ]
  },
  {
   "cell_type": "code",
   "execution_count": 42,
   "metadata": {},
   "outputs": [
    {
     "ename": "AssertionError",
     "evalue": "Recheck the adding part",
     "output_type": "error",
     "traceback": [
      "\u001b[0;31m---------------------------------------------------------------------------\u001b[0m",
      "\u001b[0;31mAssertionError\u001b[0m                            Traceback (most recent call last)",
      "\u001b[0;32m<ipython-input-42-d008cdcc7f3a>\u001b[0m in \u001b[0;36m<module>\u001b[0;34m\u001b[0m\n\u001b[0;32m----> 1\u001b[0;31m \u001b[0mmy_matrix1\u001b[0m \u001b[0;34m+\u001b[0m \u001b[0mmy_matrix3\u001b[0m \u001b[0;31m# error message\u001b[0m\u001b[0;34m\u001b[0m\u001b[0;34m\u001b[0m\u001b[0m\n\u001b[0m",
      "\u001b[0;32m<ipython-input-33-d0a2873cf9d0>\u001b[0m in \u001b[0;36m__add__\u001b[0;34m(self, other)\u001b[0m\n\u001b[1;32m     30\u001b[0m         \u001b[0mresult\u001b[0m\u001b[0;34m=\u001b[0m\u001b[0mcopy\u001b[0m\u001b[0;34m.\u001b[0m\u001b[0mdeepcopy\u001b[0m\u001b[0;34m(\u001b[0m\u001b[0mself\u001b[0m\u001b[0;34m)\u001b[0m\u001b[0;34m\u001b[0m\u001b[0;34m\u001b[0m\u001b[0m\n\u001b[1;32m     31\u001b[0m \u001b[0;34m\u001b[0m\u001b[0m\n\u001b[0;32m---> 32\u001b[0;31m         \u001b[0;32massert\u001b[0m \u001b[0misinstance\u001b[0m\u001b[0;34m(\u001b[0m\u001b[0mother\u001b[0m\u001b[0;34m,\u001b[0m \u001b[0;34m(\u001b[0m\u001b[0mint\u001b[0m\u001b[0;34m,\u001b[0m \u001b[0mfloat\u001b[0m\u001b[0;34m)\u001b[0m\u001b[0;34m)\u001b[0m \u001b[0;32mor\u001b[0m \u001b[0;34m(\u001b[0m\u001b[0mtype\u001b[0m\u001b[0;34m(\u001b[0m\u001b[0mother\u001b[0m\u001b[0;34m)\u001b[0m\u001b[0;34m==\u001b[0m\u001b[0mMatrix\u001b[0m \u001b[0;32mor\u001b[0m \u001b[0mtype\u001b[0m\u001b[0;34m(\u001b[0m\u001b[0mother\u001b[0m\u001b[0;34m)\u001b[0m\u001b[0;34m==\u001b[0m\u001b[0mVector\u001b[0m\u001b[0;34m)\u001b[0m \u001b[0;32mand\u001b[0m \u001b[0mresult\u001b[0m\u001b[0;34m.\u001b[0m\u001b[0mshape\u001b[0m\u001b[0;34m==\u001b[0m\u001b[0mother\u001b[0m\u001b[0;34m.\u001b[0m\u001b[0mshape\u001b[0m\u001b[0;34m,\u001b[0m \u001b[0;34m'Recheck the adding part'\u001b[0m\u001b[0;34m\u001b[0m\u001b[0;34m\u001b[0m\u001b[0m\n\u001b[0m\u001b[1;32m     33\u001b[0m \u001b[0;34m\u001b[0m\u001b[0m\n\u001b[1;32m     34\u001b[0m         \u001b[0;32mif\u001b[0m \u001b[0misinstance\u001b[0m\u001b[0;34m(\u001b[0m\u001b[0mother\u001b[0m\u001b[0;34m,\u001b[0m \u001b[0;34m(\u001b[0m\u001b[0mint\u001b[0m\u001b[0;34m,\u001b[0m \u001b[0mfloat\u001b[0m\u001b[0;34m)\u001b[0m\u001b[0;34m)\u001b[0m\u001b[0;34m:\u001b[0m\u001b[0;34m\u001b[0m\u001b[0;34m\u001b[0m\u001b[0m\n",
      "\u001b[0;31mAssertionError\u001b[0m: Recheck the adding part"
     ]
    }
   ],
   "source": [
    "my_matrix1 + my_matrix3 # error message"
   ]
  },
  {
   "cell_type": "markdown",
   "metadata": {},
   "source": [
    "### Describe and Discuss your answer (5 points)"
   ]
  },
  {
   "cell_type": "markdown",
   "metadata": {},
   "source": [
    "1. __str__ : object 자체를 출력할 때 return값을 어떻게 반환할 지 규정하는 method이다. Matrix의 instance인 object들을 출력했을 때 double list가 ','를 제외한 후 row vector를 출력한 후에 newline이 생기는 matrix처럼 보여져야하기때문에 string의 형태로 return 해주었다.\n",
    "2. __len__ : len()함수가 object에 __len__ method가 먼저 정의되어있는지 확인한다. 이 문제의 경우 vector의 수를 출력하도록 return 해주었다.\n",
    "3. __add__, __radd__ : 행렬합연산이 가능한(두 행렬shape의 row와 column이 일치하는 경우) 두 matrix에 대해 이중 for문을 활용하여 각 원소들의 합을 구했다.\n",
    "4. __mul__, __rmul__ : 행렬곱연산이 가능한(앞 행렬shape의 column와 뒤행렬의 row가 일치하는 경우) 두 matrix에 대해 삼중 for문을 사용했다. 교환법칙은 실수에 대해서만 정의되므로__rmul__에 실수와의 연산만 작성했다.\n",
    "5. __neg__ : 연산하는 object의 값을 변경하지 않기 위해서 새로운 변수에 deepcopy를 해주었다. 이중 for문을 활용해 원소하나하나에 대해 -1을 곱해주는 연산을 해준다.\n",
    "6. __sub__, __rsub__ : subtract 연산이 가능한 두 matrix의 경우에는 __rsub__이 불필요하지만, 실수와 matrix의 연산에서는 필요하다.__sub__과 __rsub__이 다른 부분은 vec[i]-=other,vec[i]=other-vec[i] 처럼 - 연산은 교환법칙이 성립하지 않으므로 위치가 다르다.\n",
    "7.__truediv__ : 연산하는 object의 값을 변경하지 않기 위해서 새로운 변수에 deepcopy를 해주었다. 이중 for문을 활용해 원소하나하나에 대해 / 연산을 해준다.\n",
    "8.__eq__ : 비교하는 대상의 조건을 규정해준 후(type and shape), 조건을 만족할 경우에 이중 for문을 활용하여 행렬 각각의 원소들을 비교해주었다. 하나라도 다른 경우에 return False를 하고, 다른 것이 없을 경우에 최종적으로 return True를 하도록 했다.\n",
    "9.__ne__ : 비교하는 대상의 조건을 규정해준 후(type and shape), 조건을 만족할 경우에 이중 for문을 활용하여 행렬 각각의 원소들을 비교해주었다. 하나라도 다른 경우에 return True를 하고, 다른 것이 없을 경우에 최종적으로 return False를 하도록 했다.\n",
    "\n",
    "-연산이 불가능한 경우에는 assert문에 따라 error message를 출력하도록 구현했다."
   ]
  },
  {
   "cell_type": "markdown",
   "metadata": {},
   "source": [
    "-------------------------------"
   ]
  },
  {
   "cell_type": "markdown",
   "metadata": {},
   "source": [
    "### PROBLEM II - Inheritance (20 POINTS)"
   ]
  },
  {
   "cell_type": "markdown",
   "metadata": {},
   "source": [
    "아래의 조건을 만족하는 ```Vector``` class를 완성하시오."
   ]
  },
  {
   "cell_type": "markdown",
   "metadata": {},
   "source": [
    "### Conditions\n",
    "\n",
    "1. Length가 1인 2-dimesional list를 argument로 하며, row vector만 표현하도록 한다.\n",
    "> 예를 들어, 1, 2, 3을 원소로 하는 벡터는 ```Vector([[1, 2, 3]])```으로 표현한다.  \n",
    "2. __PROBLEM I__ 의 ```Matrix``` class를 상속받아야 한다.\n",
    "3. ```Vector``` class의 object는 다음을 만족해야 한다.\n",
    "> 1) ```*```연산자로 벡터 간 내적 및 실수와의 곱셈이 가능하다.  \n",
    "> 2) ```Matrix``` class의 object에서 가능한 모든 연산은 ```Vector```  class의 object에서도 가능하다.  \n",
    "> 3) 벡터의 비교는 shape(dimension)이 같은 두 벡터에 대해서만 정의된다. 즉, 벡터와 실수의 비교 및 다른 shape(dimension)을 가진 벡터 간 비교는 불가능하다.  \n",
    "> 4) 연산이 불가능한 경우 error message를 출력한다.  \n",
    "> 5) 내적과 비교를 제외한 모든 연산의 결과는 ```Vector``` class여야 한다. 즉, ```(type(result_vector) == Vector) = True``` 이다.\n",
    "\n",
    "\n",
    "### Note\n",
    "* _Numpy를 비롯한 외부 라이브러리는 사용하지 않는다. (사용 시 해당 문항 0점)_\n",
    "* ```__add__```와 ```__mul__``` 이외의 연산은 ```Vector``` class에서 overload할 수 없다. (명시한 operator 이외의 operator를 ```Vector``` class에서 overload 시 해당 문항 0점) \n",
    "\n",
    "### Hint\n",
    "* 행 벡터는 $1 \\times n$ 행렬로 생각할 수 있다."
   ]
  },
  {
   "cell_type": "code",
   "execution_count": 12,
   "metadata": {},
   "outputs": [],
   "source": [
    "class Vector(Matrix):\n",
    "    def __init__(self, vectors):\n",
    "        # 2 points\n",
    "        ### CODE HERE ###\n",
    "        assert isinstance(vectors[0],list), 'Input argument must be a double list.'\n",
    "        Matrix.__init__(self, vectors)\n",
    "        #################\n",
    "    \n",
    "    def __mul__(self, other):\n",
    "        # 8 points\n",
    "        ### CODE HERE ###\n",
    "        result=copy.deepcopy(self)\n",
    "        \n",
    "        assert isinstance(other, (int, float)) or type(other)==Vector and result.shape==other.shape, 'Recheck the multiplying part' \n",
    "\n",
    "        if isinstance(other, (int, float)):\n",
    "            for vec in result.vectors:\n",
    "                for i in range(len(vec)):\n",
    "                    vec[i]*=other\n",
    "            return Vector(result.vectors)\n",
    "        \n",
    "        elif type(other)==Vector and self.shape==other.shape:\n",
    "            return sum(a*b for a,b in zip(self.vectors[0],other.vectors[0]))                \n",
    "        #################\n",
    "    \n",
    "    # 5 points for inheritance\n",
    "    \n",
    "    ### CODE HERE ###    \n",
    "    # You can implement __add__   if you need. \n",
    "    # All other methods must be inherited from Matrix class.\n",
    "    #################\n",
    "    "
   ]
  },
  {
   "cell_type": "code",
   "execution_count": 13,
   "metadata": {},
   "outputs": [
    {
     "ename": "AssertionError",
     "evalue": "Input argument must be a double list.",
     "output_type": "error",
     "traceback": [
      "\u001b[0;31m---------------------------------------------------------------------------\u001b[0m",
      "\u001b[0;31mAssertionError\u001b[0m                            Traceback (most recent call last)",
      "\u001b[0;32m<ipython-input-13-3bc84817bcb1>\u001b[0m in \u001b[0;36m<module>\u001b[0;34m\u001b[0m\n\u001b[0;32m----> 1\u001b[0;31m \u001b[0mvector\u001b[0m \u001b[0;34m=\u001b[0m \u001b[0mVector\u001b[0m\u001b[0;34m(\u001b[0m\u001b[0;34m[\u001b[0m\u001b[0;36m1\u001b[0m\u001b[0;34m,\u001b[0m \u001b[0;36m2\u001b[0m\u001b[0;34m,\u001b[0m \u001b[0;36m3\u001b[0m\u001b[0;34m]\u001b[0m\u001b[0;34m)\u001b[0m \u001b[0;31m# error message\u001b[0m\u001b[0;34m\u001b[0m\u001b[0;34m\u001b[0m\u001b[0m\n\u001b[0m",
      "\u001b[0;32m<ipython-input-12-3180238e241d>\u001b[0m in \u001b[0;36m__init__\u001b[0;34m(self, vectors)\u001b[0m\n\u001b[1;32m      3\u001b[0m         \u001b[0;31m# 2 points\u001b[0m\u001b[0;34m\u001b[0m\u001b[0;34m\u001b[0m\u001b[0;34m\u001b[0m\u001b[0m\n\u001b[1;32m      4\u001b[0m         \u001b[0;31m### CODE HERE ###\u001b[0m\u001b[0;34m\u001b[0m\u001b[0;34m\u001b[0m\u001b[0;34m\u001b[0m\u001b[0m\n\u001b[0;32m----> 5\u001b[0;31m         \u001b[0;32massert\u001b[0m \u001b[0misinstance\u001b[0m\u001b[0;34m(\u001b[0m\u001b[0mvectors\u001b[0m\u001b[0;34m[\u001b[0m\u001b[0;36m0\u001b[0m\u001b[0;34m]\u001b[0m\u001b[0;34m,\u001b[0m\u001b[0mlist\u001b[0m\u001b[0;34m)\u001b[0m\u001b[0;34m,\u001b[0m \u001b[0;34m'Input argument must be a double list.'\u001b[0m\u001b[0;34m\u001b[0m\u001b[0;34m\u001b[0m\u001b[0m\n\u001b[0m\u001b[1;32m      6\u001b[0m         \u001b[0mMatrix\u001b[0m\u001b[0;34m.\u001b[0m\u001b[0m__init__\u001b[0m\u001b[0;34m(\u001b[0m\u001b[0mself\u001b[0m\u001b[0;34m,\u001b[0m \u001b[0mvectors\u001b[0m\u001b[0;34m)\u001b[0m\u001b[0;34m\u001b[0m\u001b[0;34m\u001b[0m\u001b[0m\n\u001b[1;32m      7\u001b[0m         \u001b[0;31m#################\u001b[0m\u001b[0;34m\u001b[0m\u001b[0;34m\u001b[0m\u001b[0;34m\u001b[0m\u001b[0m\n",
      "\u001b[0;31mAssertionError\u001b[0m: Input argument must be a double list."
     ]
    }
   ],
   "source": [
    "vector = Vector([1, 2, 3]) # error message"
   ]
  },
  {
   "cell_type": "code",
   "execution_count": 14,
   "metadata": {},
   "outputs": [],
   "source": [
    "my_vector1 = Vector([[1, 2, 3]])\n",
    "my_vector2 = Vector([[400, 500, 600]])\n",
    "my_vector3 = Vector([[1, 2]])"
   ]
  },
  {
   "cell_type": "code",
   "execution_count": 15,
   "metadata": {},
   "outputs": [
    {
     "name": "stdout",
     "output_type": "stream",
     "text": [
      "[[1, 2, 3]]\n",
      "[[400, 500, 600]]\n",
      "[[1, 2]]\n"
     ]
    }
   ],
   "source": [
    "print(my_vector1)\n",
    "print(my_vector2)\n",
    "print(my_vector3)"
   ]
  },
  {
   "cell_type": "code",
   "execution_count": 16,
   "metadata": {},
   "outputs": [
    {
     "name": "stdout",
     "output_type": "stream",
     "text": [
      "[[1, 2, 3]]\n",
      "(1, 3)\n",
      "True\n"
     ]
    }
   ],
   "source": [
    "print(my_vector1.vectors)\n",
    "print(my_vector2.shape)\n",
    "print(type(my_vector3) == Vector)"
   ]
  },
  {
   "cell_type": "code",
   "execution_count": 17,
   "metadata": {},
   "outputs": [],
   "source": [
    "result1 = my_vector1 + my_vector2\n",
    "result2 =  my_vector1 + 100\n",
    "result3 = 200 + my_vector1\n",
    "result4 = 1000 * my_vector1\n",
    "result5 = my_vector3 * 100\n",
    "result6 = my_vector1 * my_vector2\n",
    "result7 = my_vector2 * my_vector1\n",
    "result8 = my_vector2 / 10\n",
    "result9 = my_vector2 - my_vector1\n",
    "result10 =  my_vector2 - 100\n",
    "result11 = 200 - my_vector2\n",
    "result12 = -my_vector1\n",
    "result13 = my_vector1 == my_vector2\n",
    "result14 = my_vector1 != my_vector2"
   ]
  },
  {
   "cell_type": "code",
   "execution_count": 18,
   "metadata": {},
   "outputs": [
    {
     "name": "stdout",
     "output_type": "stream",
     "text": [
      "result1 \n",
      "\n",
      " [[401, 502, 603]] \n",
      "\n",
      "result2 \n",
      "\n",
      " [[101, 102, 103]] \n",
      "\n",
      "result3 \n",
      "\n",
      " [[201, 202, 203]] \n",
      "\n",
      "result4 \n",
      "\n",
      " [[1000, 2000, 3000]] \n",
      "\n",
      "result5 \n",
      "\n",
      " [[100, 200]] \n",
      "\n",
      "result6 \n",
      "\n",
      " 3200 \n",
      "\n",
      "result7 \n",
      "\n",
      " 3200 \n",
      "\n",
      "result8 \n",
      "\n",
      " [[40.0, 50.0, 60.0]] \n",
      "\n",
      "result9 \n",
      "\n",
      " [[399, 498, 597]] \n",
      "\n",
      "result10 \n",
      "\n",
      " [[300, 400, 500]] \n",
      "\n",
      "result11 \n",
      "\n",
      " [[-200, -300, -400]] \n",
      "\n",
      "result12 \n",
      "\n",
      " [[-1, -2, -3]] \n",
      "\n",
      "result13 \n",
      "\n",
      " False \n",
      "\n",
      "result14 \n",
      "\n",
      " True \n",
      "\n"
     ]
    }
   ],
   "source": [
    "print('result1 \\n\\n', result1, '\\n')\n",
    "print('result2 \\n\\n', result2, '\\n')\n",
    "print('result3 \\n\\n', result3, '\\n')\n",
    "print('result4 \\n\\n', result4, '\\n')\n",
    "print('result5 \\n\\n', result5, '\\n')\n",
    "print('result6 \\n\\n', result6, '\\n')\n",
    "print('result7 \\n\\n', result7, '\\n')\n",
    "print('result8 \\n\\n', result8, '\\n')\n",
    "print('result9 \\n\\n', result9, '\\n')\n",
    "print('result10 \\n\\n', result10, '\\n')\n",
    "print('result11 \\n\\n', result11, '\\n')\n",
    "print('result12 \\n\\n', result12, '\\n')\n",
    "print('result13 \\n\\n', result13, '\\n')\n",
    "print('result14 \\n\\n', result14, '\\n')"
   ]
  },
  {
   "cell_type": "code",
   "execution_count": 19,
   "metadata": {
    "scrolled": false
   },
   "outputs": [
    {
     "name": "stdout",
     "output_type": "stream",
     "text": [
      "True\n",
      "True\n",
      "True\n",
      "True\n",
      "True\n",
      "False\n",
      "False\n",
      "True\n",
      "True\n",
      "True\n",
      "True\n",
      "True\n"
     ]
    }
   ],
   "source": [
    "print(type(result1) == Vector)\n",
    "print(type(result2) == Vector)\n",
    "print(type(result3) == Vector)\n",
    "print(type(result4) == Vector)\n",
    "print(type(result5) == Vector)\n",
    "print(type(result6) == Vector)\n",
    "print(type(result7) == Vector)\n",
    "print(type(result8) == Vector)\n",
    "print(type(result9) == Vector)\n",
    "print(type(result10) == Vector)\n",
    "print(type(result11) == Vector)\n",
    "print(type(result12) == Vector)"
   ]
  },
  {
   "cell_type": "code",
   "execution_count": 20,
   "metadata": {},
   "outputs": [
    {
     "ename": "AssertionError",
     "evalue": "Recheck the adding part",
     "output_type": "error",
     "traceback": [
      "\u001b[0;31m---------------------------------------------------------------------------\u001b[0m",
      "\u001b[0;31mAssertionError\u001b[0m                            Traceback (most recent call last)",
      "\u001b[0;32m<ipython-input-20-da9e7ef33227>\u001b[0m in \u001b[0;36m<module>\u001b[0;34m\u001b[0m\n\u001b[0;32m----> 1\u001b[0;31m \u001b[0mmy_vector1\u001b[0m \u001b[0;34m+\u001b[0m \u001b[0;34m'my_string'\u001b[0m \u001b[0;31m# error message\u001b[0m\u001b[0;34m\u001b[0m\u001b[0;34m\u001b[0m\u001b[0m\n\u001b[0m",
      "\u001b[0;32m<ipython-input-2-5853b22910b0>\u001b[0m in \u001b[0;36m__add__\u001b[0;34m(self, other)\u001b[0m\n\u001b[1;32m     30\u001b[0m         \u001b[0mresult\u001b[0m\u001b[0;34m=\u001b[0m\u001b[0mcopy\u001b[0m\u001b[0;34m.\u001b[0m\u001b[0mdeepcopy\u001b[0m\u001b[0;34m(\u001b[0m\u001b[0mself\u001b[0m\u001b[0;34m)\u001b[0m\u001b[0;34m\u001b[0m\u001b[0;34m\u001b[0m\u001b[0m\n\u001b[1;32m     31\u001b[0m \u001b[0;34m\u001b[0m\u001b[0m\n\u001b[0;32m---> 32\u001b[0;31m         \u001b[0;32massert\u001b[0m \u001b[0misinstance\u001b[0m\u001b[0;34m(\u001b[0m\u001b[0mother\u001b[0m\u001b[0;34m,\u001b[0m \u001b[0;34m(\u001b[0m\u001b[0mint\u001b[0m\u001b[0;34m,\u001b[0m \u001b[0mfloat\u001b[0m\u001b[0;34m)\u001b[0m\u001b[0;34m)\u001b[0m \u001b[0;32mor\u001b[0m \u001b[0;34m(\u001b[0m\u001b[0mtype\u001b[0m\u001b[0;34m(\u001b[0m\u001b[0mother\u001b[0m\u001b[0;34m)\u001b[0m\u001b[0;34m==\u001b[0m\u001b[0mMatrix\u001b[0m \u001b[0;32mor\u001b[0m \u001b[0mtype\u001b[0m\u001b[0;34m(\u001b[0m\u001b[0mother\u001b[0m\u001b[0;34m)\u001b[0m\u001b[0;34m==\u001b[0m\u001b[0mVector\u001b[0m\u001b[0;34m)\u001b[0m \u001b[0;32mand\u001b[0m \u001b[0mresult\u001b[0m\u001b[0;34m.\u001b[0m\u001b[0mshape\u001b[0m\u001b[0;34m==\u001b[0m\u001b[0mother\u001b[0m\u001b[0;34m.\u001b[0m\u001b[0mshape\u001b[0m\u001b[0;34m,\u001b[0m \u001b[0;34m'Recheck the adding part'\u001b[0m\u001b[0;34m\u001b[0m\u001b[0;34m\u001b[0m\u001b[0m\n\u001b[0m\u001b[1;32m     33\u001b[0m \u001b[0;34m\u001b[0m\u001b[0m\n\u001b[1;32m     34\u001b[0m         \u001b[0;32mif\u001b[0m \u001b[0misinstance\u001b[0m\u001b[0;34m(\u001b[0m\u001b[0mother\u001b[0m\u001b[0;34m,\u001b[0m \u001b[0;34m(\u001b[0m\u001b[0mint\u001b[0m\u001b[0;34m,\u001b[0m \u001b[0mfloat\u001b[0m\u001b[0;34m)\u001b[0m\u001b[0;34m)\u001b[0m\u001b[0;34m:\u001b[0m\u001b[0;34m\u001b[0m\u001b[0;34m\u001b[0m\u001b[0m\n",
      "\u001b[0;31mAssertionError\u001b[0m: Recheck the adding part"
     ]
    }
   ],
   "source": [
    "my_vector1 + 'my_string' # error message"
   ]
  },
  {
   "cell_type": "code",
   "execution_count": 21,
   "metadata": {},
   "outputs": [
    {
     "ename": "AssertionError",
     "evalue": "Recheck the adding part",
     "output_type": "error",
     "traceback": [
      "\u001b[0;31m---------------------------------------------------------------------------\u001b[0m",
      "\u001b[0;31mAssertionError\u001b[0m                            Traceback (most recent call last)",
      "\u001b[0;32m<ipython-input-21-2d6bc9702e13>\u001b[0m in \u001b[0;36m<module>\u001b[0;34m\u001b[0m\n\u001b[0;32m----> 1\u001b[0;31m \u001b[0mmy_vector1\u001b[0m \u001b[0;34m+\u001b[0m \u001b[0mmy_vector3\u001b[0m \u001b[0;31m# error message\u001b[0m\u001b[0;34m\u001b[0m\u001b[0;34m\u001b[0m\u001b[0m\n\u001b[0m",
      "\u001b[0;32m<ipython-input-2-5853b22910b0>\u001b[0m in \u001b[0;36m__add__\u001b[0;34m(self, other)\u001b[0m\n\u001b[1;32m     30\u001b[0m         \u001b[0mresult\u001b[0m\u001b[0;34m=\u001b[0m\u001b[0mcopy\u001b[0m\u001b[0;34m.\u001b[0m\u001b[0mdeepcopy\u001b[0m\u001b[0;34m(\u001b[0m\u001b[0mself\u001b[0m\u001b[0;34m)\u001b[0m\u001b[0;34m\u001b[0m\u001b[0;34m\u001b[0m\u001b[0m\n\u001b[1;32m     31\u001b[0m \u001b[0;34m\u001b[0m\u001b[0m\n\u001b[0;32m---> 32\u001b[0;31m         \u001b[0;32massert\u001b[0m \u001b[0misinstance\u001b[0m\u001b[0;34m(\u001b[0m\u001b[0mother\u001b[0m\u001b[0;34m,\u001b[0m \u001b[0;34m(\u001b[0m\u001b[0mint\u001b[0m\u001b[0;34m,\u001b[0m \u001b[0mfloat\u001b[0m\u001b[0;34m)\u001b[0m\u001b[0;34m)\u001b[0m \u001b[0;32mor\u001b[0m \u001b[0;34m(\u001b[0m\u001b[0mtype\u001b[0m\u001b[0;34m(\u001b[0m\u001b[0mother\u001b[0m\u001b[0;34m)\u001b[0m\u001b[0;34m==\u001b[0m\u001b[0mMatrix\u001b[0m \u001b[0;32mor\u001b[0m \u001b[0mtype\u001b[0m\u001b[0;34m(\u001b[0m\u001b[0mother\u001b[0m\u001b[0;34m)\u001b[0m\u001b[0;34m==\u001b[0m\u001b[0mVector\u001b[0m\u001b[0;34m)\u001b[0m \u001b[0;32mand\u001b[0m \u001b[0mresult\u001b[0m\u001b[0;34m.\u001b[0m\u001b[0mshape\u001b[0m\u001b[0;34m==\u001b[0m\u001b[0mother\u001b[0m\u001b[0;34m.\u001b[0m\u001b[0mshape\u001b[0m\u001b[0;34m,\u001b[0m \u001b[0;34m'Recheck the adding part'\u001b[0m\u001b[0;34m\u001b[0m\u001b[0;34m\u001b[0m\u001b[0m\n\u001b[0m\u001b[1;32m     33\u001b[0m \u001b[0;34m\u001b[0m\u001b[0m\n\u001b[1;32m     34\u001b[0m         \u001b[0;32mif\u001b[0m \u001b[0misinstance\u001b[0m\u001b[0;34m(\u001b[0m\u001b[0mother\u001b[0m\u001b[0;34m,\u001b[0m \u001b[0;34m(\u001b[0m\u001b[0mint\u001b[0m\u001b[0;34m,\u001b[0m \u001b[0mfloat\u001b[0m\u001b[0;34m)\u001b[0m\u001b[0;34m)\u001b[0m\u001b[0;34m:\u001b[0m\u001b[0;34m\u001b[0m\u001b[0;34m\u001b[0m\u001b[0m\n",
      "\u001b[0;31mAssertionError\u001b[0m: Recheck the adding part"
     ]
    }
   ],
   "source": [
    "my_vector1 + my_vector3 # error message"
   ]
  },
  {
   "cell_type": "code",
   "execution_count": 22,
   "metadata": {},
   "outputs": [
    {
     "ename": "AssertionError",
     "evalue": "Recheck the multiplying part",
     "output_type": "error",
     "traceback": [
      "\u001b[0;31m---------------------------------------------------------------------------\u001b[0m",
      "\u001b[0;31mAssertionError\u001b[0m                            Traceback (most recent call last)",
      "\u001b[0;32m<ipython-input-22-68575e90c0e8>\u001b[0m in \u001b[0;36m<module>\u001b[0;34m\u001b[0m\n\u001b[0;32m----> 1\u001b[0;31m \u001b[0mmy_vector1\u001b[0m \u001b[0;34m*\u001b[0m \u001b[0mmy_vector3\u001b[0m \u001b[0;31m# error message\u001b[0m\u001b[0;34m\u001b[0m\u001b[0;34m\u001b[0m\u001b[0m\n\u001b[0m",
      "\u001b[0;32m<ipython-input-12-3180238e241d>\u001b[0m in \u001b[0;36m__mul__\u001b[0;34m(self, other)\u001b[0m\n\u001b[1;32m     12\u001b[0m         \u001b[0mresult\u001b[0m\u001b[0;34m=\u001b[0m\u001b[0mcopy\u001b[0m\u001b[0;34m.\u001b[0m\u001b[0mdeepcopy\u001b[0m\u001b[0;34m(\u001b[0m\u001b[0mself\u001b[0m\u001b[0;34m)\u001b[0m\u001b[0;34m\u001b[0m\u001b[0;34m\u001b[0m\u001b[0m\n\u001b[1;32m     13\u001b[0m \u001b[0;34m\u001b[0m\u001b[0m\n\u001b[0;32m---> 14\u001b[0;31m         \u001b[0;32massert\u001b[0m \u001b[0misinstance\u001b[0m\u001b[0;34m(\u001b[0m\u001b[0mother\u001b[0m\u001b[0;34m,\u001b[0m \u001b[0;34m(\u001b[0m\u001b[0mint\u001b[0m\u001b[0;34m,\u001b[0m \u001b[0mfloat\u001b[0m\u001b[0;34m)\u001b[0m\u001b[0;34m)\u001b[0m \u001b[0;32mor\u001b[0m \u001b[0mtype\u001b[0m\u001b[0;34m(\u001b[0m\u001b[0mother\u001b[0m\u001b[0;34m)\u001b[0m\u001b[0;34m==\u001b[0m\u001b[0mVector\u001b[0m \u001b[0;32mand\u001b[0m \u001b[0mresult\u001b[0m\u001b[0;34m.\u001b[0m\u001b[0mshape\u001b[0m\u001b[0;34m==\u001b[0m\u001b[0mother\u001b[0m\u001b[0;34m.\u001b[0m\u001b[0mshape\u001b[0m\u001b[0;34m,\u001b[0m \u001b[0;34m'Recheck the multiplying part'\u001b[0m\u001b[0;34m\u001b[0m\u001b[0;34m\u001b[0m\u001b[0m\n\u001b[0m\u001b[1;32m     15\u001b[0m \u001b[0;34m\u001b[0m\u001b[0m\n\u001b[1;32m     16\u001b[0m         \u001b[0;32mif\u001b[0m \u001b[0misinstance\u001b[0m\u001b[0;34m(\u001b[0m\u001b[0mother\u001b[0m\u001b[0;34m,\u001b[0m \u001b[0;34m(\u001b[0m\u001b[0mint\u001b[0m\u001b[0;34m,\u001b[0m \u001b[0mfloat\u001b[0m\u001b[0;34m)\u001b[0m\u001b[0;34m)\u001b[0m\u001b[0;34m:\u001b[0m\u001b[0;34m\u001b[0m\u001b[0;34m\u001b[0m\u001b[0m\n",
      "\u001b[0;31mAssertionError\u001b[0m: Recheck the multiplying part"
     ]
    }
   ],
   "source": [
    "my_vector1 * my_vector3 # error message"
   ]
  },
  {
   "cell_type": "markdown",
   "metadata": {},
   "source": [
    "### Describe and Discuss your answer (5 points) \n"
   ]
  },
  {
   "cell_type": "markdown",
   "metadata": {},
   "source": [
    " Vector class는 Matrix class를 상속받아 정의했다. Vector class로부터 정의된 object는 Matrix class의 대부분의 연산규칙을 만족한다. 하지만, * 연산의 경우 Vector class의 instance들은 행렬의 곱 정의가 아닌 내적(dot product)를 만족하기 때문에 override해주어야 한다. \n",
    " 이외에 연산을 위한 기본조건을 만족하지 않는 경우(마지막 세가지 error)에는 assertion 문을 통해 error message를 출력해주었다."
   ]
  },
  {
   "cell_type": "markdown",
   "metadata": {},
   "source": [
    "-------------------------------"
   ]
  },
  {
   "cell_type": "markdown",
   "metadata": {},
   "source": [
    "### PROBLEM III (15 POINTS)"
   ]
  },
  {
   "cell_type": "markdown",
   "metadata": {},
   "source": [
    "```Vector``` class의 object 간 연산과 numpy vector 간 연산을 비교하는 실험을 설계하시오.\n",
    "\n",
    "### Conditions\n",
    "\n",
    "1. __PROBLEM II__에서 ```Vector``` object 간 덧셈, 내적을 구현하였다. 각 연산의 time complexity를 big $\\mathcal{O}$ notation을 이용하여 분석하시오.\n",
    "2. ```Vector``` object 간 덧셈, 내적의 time complexity와 numpy vector 간 덧셈, 내적의 time complexity를 비교하는 실험을 설계하시오.\n",
    "3. __1__에서 분석한 결과와 __2__의 실험 결과를 비교하시오.\n",
    "\n",
    "### Note\n",
    "* __PROBLEM II__에서 ```Vector``` class를 구현하지 못한 경우, 아래의 함수를 정의하여 사용하는 것은 허용한다. **단, 이 경우에도 numpy를 비롯한 외부 라이브러리는 사용하지 않는다. (_사용 시 해당 문항 0점_)**"
   ]
  },
  {
   "cell_type": "markdown",
   "metadata": {},
   "source": [
    "### Parameters for figure (optional)\n",
    "\n",
    "```\n",
    "iterations: 500\n",
    "\n",
    "plt.figure(figsize=(20, 15))\n",
    "\n",
    "plt.xlabel('$n$', fontsize=20)\n",
    "plt.ylabel('elapsed time', fontsize=20)\n",
    "plt.legend(['vector sum. (ours)', 'vector mul. (ours)', 'vector sum. (numpy)', 'vector mul. (numpy)'], loc='best', fontsize=15)\n",
    "```"
   ]
  },
  {
   "cell_type": "code",
   "execution_count": 23,
   "metadata": {},
   "outputs": [
    {
     "ename": "IndentationError",
     "evalue": "expected an indented block (<ipython-input-23-80978f3d4856>, line 9)",
     "output_type": "error",
     "traceback": [
      "\u001b[0;36m  File \u001b[0;32m\"<ipython-input-23-80978f3d4856>\"\u001b[0;36m, line \u001b[0;32m9\u001b[0m\n\u001b[0;31m    def vector_multiplication(vector1, vector2):\u001b[0m\n\u001b[0m    ^\u001b[0m\n\u001b[0;31mIndentationError\u001b[0m\u001b[0;31m:\u001b[0m expected an indented block\n"
     ]
    }
   ],
   "source": [
    "# If you fail to implement the Vector class you can define the operations for the experiments.\n",
    "# But, libraries like numpy are not allowed (use python list).\n",
    "\n",
    "def vector_summation(vector1, vector2):\n",
    "    ### CODE HERE ###\n",
    "    \n",
    "    #################\n",
    "\n",
    "def vector_multiplication(vector1, vector2):\n",
    "    ### CODE HERE ###\n",
    "    \n",
    "    #################"
   ]
  },
  {
   "cell_type": "code",
   "execution_count": 24,
   "metadata": {},
   "outputs": [],
   "source": [
    "import time\n",
    "import numpy as np\n",
    "import matplotlib.pyplot as plt"
   ]
  },
  {
   "cell_type": "code",
   "execution_count": 27,
   "metadata": {
    "scrolled": false
   },
   "outputs": [
    {
     "data": {
      "image/png": "[encoded data removed]",
      "text/plain": [
       "<Figure size 720x720 with 1 Axes>"
      ]
     },
     "metadata": {
      "needs_background": "light"
     },
     "output_type": "display_data"
    }
   ],
   "source": [
    "# 10 points\n",
    "### CODE HERE ###\n",
    "def our_timefunc(trials, calculate, vector1, vector2):\n",
    "    start_time = time.time()\n",
    "    if calculate== \"add\":    \n",
    "        for i in range(trials):\n",
    "            vector1+vector2\n",
    "    elif calculate== \"mul\":    \n",
    "        for i in range(trials):\n",
    "            vector1*vector2\n",
    "\n",
    "    end_time = time.time()\n",
    "    return (end_time-start_time) / trials\n",
    "\n",
    "def np_timefunc(trials, calculate, vector1, vector2):\n",
    "    x=np.array(vector1)\n",
    "    y=np.array(vector2)\n",
    "    start_time = time.time()\n",
    "    if calculate== \"add\":    \n",
    "        for i in range(trials):\n",
    "            x+y\n",
    "    elif calculate== \"mul\":    \n",
    "        for i in range(trials):\n",
    "            np.dot(x,y)\n",
    "    end_time = time.time()\n",
    "    return (end_time-start_time) / trials\n",
    "\n",
    "time_list1 = [our_timefunc(5, \"add\", Vector([[a for a in range(i)]]), Vector([[a for a in range(i)]])) for i in range(1,500,1)]\n",
    "time_list2 = [our_timefunc(5, \"mul\", Vector([[a for a in range(i)]]), Vector([[a for a in range(i)]])) for i in range(1,500,1)]\n",
    "time_list3 = [np_timefunc(5, \"add\", [a for a in range(i)], [a for a in range(i)]) for i in range(1,500,1)]\n",
    "time_list4 = [np_timefunc(5, \"mul\", [a for a in range(i)], [a for a in range(i)]) for i in range(1,500,1)]\n",
    "\n",
    "plt.figure(figsize=(10,10))\n",
    "plt.plot([x for x in range(1,500,1)], time_list1, 'b', label = 'add_ours')\n",
    "plt.plot([x for x in range(1,500,1)], time_list2, 'g', label = 'mul_ours')\n",
    "plt.plot([x for x in range(1,500,1)], time_list3, 'r', label = 'add_np')\n",
    "plt.plot([x for x in range(1,500,1)], time_list4, 'y', label = 'mul_np')\n",
    "plt.xlabel('$n$', fontsize=30)\n",
    "plt.ylabel('elapsed time', fontsize=30)\n",
    "plt.ylim(-0.0001,0.001)\n",
    "plt.legend()\n",
    "\n",
    "plt.show()\n",
    "#################"
   ]
  },
  {
   "cell_type": "markdown",
   "metadata": {},
   "source": [
    "### Describe your answer (5 points)\n"
   ]
  },
  {
   "cell_type": "markdown",
   "metadata": {},
   "source": [
    " 문제 조건에 의해 주어진 실험을 설계한 결과, 답안의 결과와 같게 나옴을 확인할 수 있었다.\n",
    " 직접 설계한 vector연산의 add의 경우에는 Matrix class로 부터 상속을 받았고 그 연산은 이중 for문이었다. 그러나 Vector class들의 instance인 object들은 row의 개수가 모두 1로 일정하므로 time complexity O(n)=n을 만족했다.multiply(dot product)의 경우 또한 row의 개수가 1이고, column의 개수가 하나씩 증가할 때 연산이 한번 더 이루어지는 n의 order를 만족하기 때문에 O(n)=n이 됨을 확인했다.\n",
    " Numpy package를 활용한 경우에는 상수함수와 같은 O(1)을 만족함을 육안상으로 확인할 수 있었다.\n",
    " 위 실험에서는 iteration 횟수 n이 증가함에 따라 연산하는 시간이 어떻게 증가하는지를 확인하는 것이 목표이므로,연산에 활용되는 list들의 값 자체는 중요하지 않은 요인으로 간주하였다."
   ]
  },
  {
   "cell_type": "markdown",
   "metadata": {},
   "source": [
    "-------------------------------"
   ]
  },
  {
   "cell_type": "markdown",
   "metadata": {},
   "source": [
    "### PROBLEM IV (15 POINTS)"
   ]
  },
  {
   "cell_type": "markdown",
   "metadata": {},
   "source": [
    "```Matrix``` class의 object 간 연산과 numpy matrix 간 연산을 비교하는 실험을 설계하시오.\n",
    "\n",
    "### Conditions\n",
    "\n",
    "1. __PROBLEM I__에서 ```Matrix``` object 간 덧셈, 곱셈을 구현하였다. 각 연산의 time complexity를 big $\\mathcal{O}$ notation을 이용하여 분석하시오.\n",
    "2. ```Matrix``` object 간 덧셈, 곱셈의 time complexity와 numpy matrix 간 덧셈, 곱셈의 time complexity를 비교하는 실험을 설계하시오.\n",
    "3. __1__에서 분석한 결과와 __2__의 실험 결과를 비교하시오.\n",
    "\n",
    "\n",
    "### Note\n",
    "* __PROBLEM I__에서 ```Matrix``` class를 구현하지 못한 경우, 아래의 함수를 정의하여 사용하는 것은 허용한다. **단, 이 경우에도 numpy를 비롯한 외부 라이브러리는 사용하지 않는다. (_사용 시 해당 문항 0점_)**"
   ]
  },
  {
   "cell_type": "markdown",
   "metadata": {},
   "source": [
    "### Parameters for figure (optional)\n",
    "\n",
    "```\n",
    "iterations for our matrix class multiplication: 100\n",
    "iterations for others: 1000\n",
    "\n",
    "plt.figure(figsize=(20, 15))\n",
    "\n",
    "plt.xlabel('$n$', fontsize=20)\n",
    "plt.ylabel('elapsed time', fontsize=20)\n",
    "plt.legend(['matrix sum. (ours)', 'matrix mul. (ours)', 'matrix sum. (numpy)', 'matrix mul. (numpy)'], loc='best', fontsize=15)\n",
    "```"
   ]
  },
  {
   "cell_type": "code",
   "execution_count": 28,
   "metadata": {},
   "outputs": [
    {
     "ename": "IndentationError",
     "evalue": "expected an indented block (<ipython-input-28-cbc0d337edea>, line 9)",
     "output_type": "error",
     "traceback": [
      "\u001b[0;36m  File \u001b[0;32m\"<ipython-input-28-cbc0d337edea>\"\u001b[0;36m, line \u001b[0;32m9\u001b[0m\n\u001b[0;31m    def matrix_multiplication(matrix1, matrix2):\u001b[0m\n\u001b[0m    ^\u001b[0m\n\u001b[0;31mIndentationError\u001b[0m\u001b[0;31m:\u001b[0m expected an indented block\n"
     ]
    }
   ],
   "source": [
    "# If you fail to implement the Matrix class, you can define the operations for the experiments.\n",
    "# But, libraries like numpy are not allowed (use python list).\n",
    "\n",
    "def matrix_summation(matrix1, matrix2):\n",
    "    ### CODE HERE ###\n",
    "    \n",
    "    #################\n",
    "\n",
    "def matrix_multiplication(matrix1, matrix2):\n",
    "    ### CODE HERE ###\n",
    "    \n",
    "    #################"
   ]
  },
  {
   "cell_type": "code",
   "execution_count": 29,
   "metadata": {},
   "outputs": [],
   "source": [
    "import time\n",
    "import numpy as np\n",
    "import matplotlib.pyplot as plt"
   ]
  },
  {
   "cell_type": "code",
   "execution_count": 32,
   "metadata": {
    "scrolled": false
   },
   "outputs": [
    {
     "data": {
      "image/png": "[encoded data removed]",
      "text/plain": [
       "<Figure size 720x720 with 1 Axes>"
      ]
     },
     "metadata": {
      "needs_background": "light"
     },
     "output_type": "display_data"
    }
   ],
   "source": [
    "# 10 points\n",
    "### CODE HERE ###\n",
    "def our_mat_timefunc(trials, calculate, mat1, mat2):\n",
    "    start_time = time.time()\n",
    "    if calculate== \"add\":    \n",
    "        for i in range(trials):\n",
    "            mat1+mat2\n",
    "    elif calculate== \"mul\":    \n",
    "        for i in range(trials):\n",
    "            mat1*mat2\n",
    "\n",
    "    end_time = time.time()\n",
    "    return (end_time-start_time) / trials\n",
    "\n",
    "def np_mat_timefunc(trials, calculate, mat1, mat2):\n",
    "    x=np.matrix(mat1)\n",
    "    y=np.matrix(mat2)\n",
    "    start_time = time.time()\n",
    "    if calculate== \"add\":    \n",
    "        for i in range(trials):\n",
    "            x+y\n",
    "    elif calculate== \"mul\":    \n",
    "        for i in range(trials):\n",
    "            x*y\n",
    "    end_time = time.time()\n",
    "    return (end_time-start_time) / trials\n",
    "\n",
    "time_list1 = [our_mat_timefunc(2, \"add\", Matrix([[x for x in range(i)] for a in range(i)]), Matrix([[x for x in range(i)] for a in range(i)])) for i in range(1,200,1)]\n",
    "time_list2 = [our_mat_timefunc(2, \"mul\", Matrix([[x for x in range(i)] for a in range(i)]), Matrix([[x for x in range(i)] for a in range(i)])) for i in range(1,200,1)]\n",
    "time_list3 = [np_mat_timefunc(2, \"add\", [[0 for x in range(i)] for a in range(i)], [[0 for x in range(i)] for a in range(i)]) for i in range(1,200,1)]\n",
    "time_list4 = [np_mat_timefunc(2, \"mul\", [[0 for x in range(i)] for a in range(i)], [[0 for x in range(i)] for a in range(i)]) for i in range(1,200,1)]\n",
    "\n",
    "plt.figure(figsize=(10,10))\n",
    "plt.plot([x for x in range(1,200,1)], time_list1, 'b', label = 'add_ours')\n",
    "plt.plot([x for x in range(1,200,1)], time_list2, 'g', label = 'mul_ours')\n",
    "plt.plot([x for x in range(1,200,1)], time_list3, 'r', label = 'add_np')\n",
    "plt.plot([x for x in range(1,200,1)], time_list4, 'y', label = 'mul_np')\n",
    "plt.xlabel('$n$', fontsize=30)\n",
    "plt.ylabel('elapsed time', fontsize=30)\n",
    "plt.ylim(-0.01,0.1)\n",
    "plt.legend()\n",
    "\n",
    "plt.show()\n",
    "#################"
   ]
  },
  {
   "cell_type": "markdown",
   "metadata": {},
   "source": [
    "### Describe your answer (5 points)"
   ]
  },
  {
   "cell_type": "markdown",
   "metadata": {},
   "source": [
    "직접 설계한 matrix연산과 numpy package를 활용한 연산은 add_np>mul_np>add_ours>mul_ours 순으로 빨랐다. mul_our는 삼중 for문으로 연산을 했기 때문에 big-O, O(n)=n^3이 됨을 확인했다. add_our는 이중 for문이기 때문에 O(n)=n^2으로 예측했고 그와 맞는 결과를 도출했다. add_np는 iteration이 증가함에도 시간에는 변함이 없었으므로 O(1)임을 알아내었다. mul_np는 iteration이 증가함에도 시간차이가 크게 나지 않음을 알 수 있다."
   ]
  },
  {
   "cell_type": "markdown",
   "metadata": {},
   "source": [
    "-------------------------------"
   ]
  },
  {
   "cell_type": "code",
   "execution_count": null,
   "metadata": {},
   "outputs": [],
   "source": []
  }
 ],
 "metadata": {
  "anaconda-cloud": {},
  "kernelspec": {
   "display_name": "Python 3",
   "language": "python",
   "name": "python3"
  },
  "language_info": {
   "codemirror_mode": {
    "name": "ipython",
    "version": 3
   },
   "file_extension": ".py",
   "mimetype": "text/x-python",
   "name": "python",
   "nbconvert_exporter": "python",
   "pygments_lexer": "ipython3",
   "version": "3.8.5"
  }
 },
 "nbformat": 4,
 "nbformat_minor": 1
}
