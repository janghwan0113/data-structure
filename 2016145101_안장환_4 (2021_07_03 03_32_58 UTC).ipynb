{
 "cells": [
  {
   "cell_type": "markdown",
   "metadata": {},
   "source": [
    "> ### EEE2020: Data Structures & Algorithms\n",
    "\n",
    "# Assignment \\# IV: Searching & Sorting"
   ]
  },
  {
   "cell_type": "markdown",
   "metadata": {},
   "source": [
    "<div style=\"text-align: right\"> **Due date: May 21, 2021.** </div> \n",
    "<div style=\"text-align: right\"> **Please upload your data @ LearnUs by 7 PM.** </div> \n",
    "<br>\n",
    "<div style=\"text-align: right\"> Daesung Jeon(전대성): <a href=\"mailto:ds.jeon@yonsei.ac.kr\">ds.jeon@yonsei.ac.kr</a> \n",
    "<div style=\"text-align: right\"> Hyekang Park(박혜강): <a href=\"mailto:hyekang.park@yonsei.ac.kr\">hyekang.park@yonsei.ac.kr</a> </div>\n",
    "</div>"
   ]
  },
  {
   "cell_type": "markdown",
   "metadata": {},
   "source": [
    "-------------------------------"
   ]
  },
  {
   "cell_type": "markdown",
   "metadata": {},
   "source": [
    "\n",
    "### *Assignment Instructions:*\n",
    "1. Write a program implementing a particular algorithm to solve a given problem.\n",
    "2. You can use both Korean and Engligh for your report.\n",
    "3. **Analyze the algorithm theoretically and empirically, and write discussion.** \n",
    "4. **Report your results.**  \n",
    "    - You must do assignments and labs yourself. \n",
    "    - <span style=\"color:red\">**Do not copy any part of your friends’ code.**</span>\n",
    "    - Otherwise, you will get a F grade."
   ]
  },
  {
   "cell_type": "markdown",
   "metadata": {},
   "source": [
    "-----------------"
   ]
  },
  {
   "cell_type": "markdown",
   "metadata": {},
   "source": [
    "<h2><span style=\"color:blue\">[2016145101] [안장환]</span> </h2>"
   ]
  },
  {
   "cell_type": "code",
   "execution_count": 116,
   "metadata": {},
   "outputs": [
    {
     "name": "stdout",
     "output_type": "stream",
     "text": [
      "This code is written at 2021-05-21 18:46:47.814352\n"
     ]
    }
   ],
   "source": [
    "import datetime\n",
    "print(\"This code is written at \" + str(datetime.datetime.now()))"
   ]
  },
  {
   "cell_type": "code",
   "execution_count": 117,
   "metadata": {},
   "outputs": [
    {
     "name": "stdout",
     "output_type": "stream",
     "text": [
      "The autoreload extension is already loaded. To reload it, use:\n",
      "  %reload_ext autoreload\n"
     ]
    }
   ],
   "source": [
    "%load_ext autoreload\n",
    "%autoreload 2\n",
    "%matplotlib inline"
   ]
  },
  {
   "cell_type": "markdown",
   "metadata": {},
   "source": [
    "-------------------------------"
   ]
  },
  {
   "cell_type": "markdown",
   "metadata": {},
   "source": [
    "### PROBLEM I - Sorting (20 POINTS)\n",
    "\n",
    "#### 1. Sorting 함수들을 구현하려 한다. 다음 조건들을 만족하는 ```bubble sort```, ```merge sort```, ```insertion_sort```, ```shell sort```,  ```quick sort```를 구현하시오. (5점)\n",
    "> * ```sort_list``` 와 ```func```를 인자로 받는다. ```sort_list```는 실수를 원소로 하는 정렬 되지 않은 리스트이고, ```func```는 실수 값을 입력 받아 또 다른 실수 값을 반환하는 함수이다.\n",
    "> * 정렬된 ```sort_list```를 반환한다.\n",
    "> * ```func```가 반환하는 값을 기준으로 내림차순 정렬한다.\n",
    ">> * ```func```의 예시 : ```lambda x : x + 1```\n",
    "\n",
    "\n",
    "\n",
    "#### NOTE\n",
    "- 외부 라이브러리는 사용하지 않는다(사용 시 해당 문항 0점).\n",
    "- ```###CODE HERE###``` 이외의 코드를 수정하지 않는다.\n",
    "- ```###CODE HERE###``` 중 설명이 필요한 부분에 주석을 단다. \n",
    "- Discussion에 알고리즘이 어떻게 동작하는지 설명한다."
   ]
  },
  {
   "cell_type": "code",
   "execution_count": 118,
   "metadata": {},
   "outputs": [],
   "source": [
    "### CODE HERE ###\n",
    "\n",
    "def bubble_sort(sort_list, func):\n",
    "    for i in range(len(sort_list)-1,0,-1):\n",
    "        for j in range(i):\n",
    "            if func(sort_list[j]) < func(sort_list[j+1]):\n",
    "                temp=sort_list[j+1]\n",
    "                sort_list[j+1]=sort_list[j]\n",
    "                sort_list[j]=temp\n",
    "\n",
    "def merge_sort(sort_list, func):\n",
    "    if len(sort_list)>1:\n",
    "        mid = len(sort_list)//2\n",
    "        left_half=sort_list[:mid]\n",
    "        right_half=sort_list[mid:]\n",
    "        \n",
    "        merge_sort(left_half,func)\n",
    "        merge_sort(right_half,func)\n",
    "        \n",
    "        i=0\n",
    "        j=0\n",
    "        k=0\n",
    "        \n",
    "        while i< len(left_half) and j<len(right_half):\n",
    "            if func(left_half[i]) > func(right_half[j]):\n",
    "                sort_list[k]=left_half[i]\n",
    "                i=i+1\n",
    "            else:\n",
    "                sort_list[k]=right_half[j]\n",
    "                j=j+1\n",
    "            k=k+1\n",
    "        \n",
    "        while i <len(left_half):\n",
    "            sort_list[k]=left_half[i]\n",
    "            i=i+1\n",
    "            k=k+1\n",
    "        \n",
    "        while j< len(right_half):\n",
    "            sort_list[k]=right_half[j]\n",
    "            j=j+1\n",
    "            k=k+1\n",
    "            \n",
    "def insertion_sort(sort_list, func):\n",
    "    for i in range(1,len(sort_list)):\n",
    "        insert = sort_list[i]\n",
    "        pos = i\n",
    "        while func(insert) >= func(sort_list[pos-1]) and pos >0:\n",
    "            sort_list[pos]=sort_list[pos-1]\n",
    "            pos-=1\n",
    "            \n",
    "        sort_list[pos]=insert\n",
    "        \n",
    "def gap_insertion_sort(sort_list, start, gap, func):\n",
    "    for i in range(start+gap, len(sort_list), gap):\n",
    "        current_value = sort_list[i]\n",
    "        position = i\n",
    "        \n",
    "        while position >=gap and func(sort_list[position-gap]) <= func(current_value):\n",
    "            sort_list[position]=sort_list[position-gap]\n",
    "            position=position-gap\n",
    "            \n",
    "        sort_list[position]=current_value\n",
    "        \n",
    "def shell_sort(sort_list, func):\n",
    "    sublist_count =len(sort_list)//2\n",
    "    while sublist_count>0:\n",
    "        for start_position in range(sublist_count):\n",
    "            gap_insertion_sort(sort_list, start_position, sublist_count,func)\n",
    "        sublist_count=sublist_count//2\n",
    "        \n",
    "def _quick_sort_helper(sort_list, first, last, func):\n",
    "    if first < last:\n",
    "        \n",
    "        split_point = _partition(sort_list, first, last,func)\n",
    "        \n",
    "        _quick_sort_helper(sort_list, first, split_point - 1, func)\n",
    "        _quick_sort_helper(sort_list, split_point + 1, last, func) \n",
    "        \n",
    "def _partition(sort_list, first, last, func):\n",
    "    pivot_value = sort_list[first] \n",
    "    left_mark = first + 1 \n",
    "    right_mark = last\n",
    "    done = False\n",
    "    \n",
    "    while not done:\n",
    "        while left_mark <= right_mark and func(sort_list[left_mark]) >= func(pivot_value):\n",
    "            left_mark = left_mark + 1\n",
    "            \n",
    "        while func(sort_list[right_mark]) <= func(pivot_value) and right_mark >= left_mark:\n",
    "            right_mark = right_mark - 1\n",
    "            \n",
    "        if right_mark < left_mark: \n",
    "            done = True\n",
    "        else:\n",
    "            temp = sort_list[left_mark] \n",
    "            sort_list[left_mark] = sort_list[right_mark] \n",
    "            sort_list[right_mark] = temp\n",
    "            \n",
    "    temp = sort_list[first]\n",
    "    sort_list[first] = sort_list[right_mark]\n",
    "    sort_list[right_mark] = temp\n",
    "    \n",
    "    return right_mark\n",
    "\n",
    "def quick_sort(sort_list, func):\n",
    "    _quick_sort_helper(sort_list, 0, len(sort_list) - 1,func)\n",
    "\n",
    "#################"
   ]
  },
  {
   "cell_type": "markdown",
   "metadata": {},
   "source": [
    "### Describe and Discuss your answer"
   ]
  },
  {
   "cell_type": "markdown",
   "metadata": {},
   "source": [
    "- bubble_sort: 1 ~ n, 1 ~ (n-1), 1 ~ (n-2)...로 오른쪽 항과 비교를 하며 작은 func(data)의 결과값을 갖는 data를 가장 오른쪽으로 보내준다.\n",
    "- merge_sort: list를 이등분으로 나누어주며 가장 작은 단위부터 내림차순으로 정렬하며 recursive하게 다시 합쳐준다.\n",
    "- insertion_sort: list에서 index를 증가시키며 왼쪽의 sublist와 비교해 비교기준이 되는 값보다 작은 것들은 list에서 한 칸씩 오른쪽으로 보내주고 큰 값 앞에서 멈추어 정렬해준다.. \n",
    "- shell_sort: list에서 gap을 주어 만든 sublist들에 대하여 insertion sort를 진행하고, gap을 줄여나가며 tunning해간다. 값은 func를 지난 함수값을 기준으로 비교한다.\n",
    "- quick_sort: pivot value를 사용하여 pivot이 sorting후 최종위치한 split point를 기준(왼쪽 > pivot, 오른쪽<pivot)으로 list를 나눠주고, recursive하게 진행한다.\n"
   ]
  },
  {
   "cell_type": "markdown",
   "metadata": {},
   "source": [
    "#### 2. Sorting 함수들의 complexity를 비교하려 한다. 다음 조건을 만족하는 ```compute_sorting_time()``` 함수를 구현하시오. (5점)\n",
    "> * $N = 100, 200, ... , 1000$일 때 각 정렬함수의 수행 시간 그래프를 `matplotlib`을 이용하여 line plot으로 나타낼 것.\n",
    "> * x축을 $N$, y축을 정렬 시간으로 할 것. \n",
    "> * ```_compute_time(func)``` 함수는 정렬 함수를 입력으로 받아 $N = 100, 200, ... , 1000$ 일때의 수행시간 list를 반환한다.\n",
    "\n",
    "#### HINT\n",
    "1. ```random.sample``` 함수를 이용하여 임의의 수열을 생성한다.\n",
    "\n",
    "#### NOTE\n",
    "- 명시된 라이브러리 이외에는 사용하지 않는다(사용 시 해당 문항 0점).\n",
    "- ```###CODE HERE###``` 이외의 코드를 수정하지 않는다.\n",
    "- ```###CODE HERE###``` 중 설명이 필요한 부분에 주석을 단다. \n",
    "- Discussion에 각 정렬함수의 complexity를 설명한다."
   ]
  },
  {
   "cell_type": "code",
   "execution_count": 119,
   "metadata": {
    "scrolled": true
   },
   "outputs": [
    {
     "data": {
      "image/png": "[encoded data removed]",
      "text/plain": [
       "<Figure size 432x288 with 1 Axes>"
      ]
     },
     "metadata": {
      "needs_background": "light"
     },
     "output_type": "display_data"
    }
   ],
   "source": [
    "def _compute_time(func):\n",
    "    import time\n",
    "    import random\n",
    "    ### CODE HERE ###\n",
    "    test_list_set=[None]*1000\n",
    "    time_list=[]\n",
    "    \n",
    "    for i in range(1000):\n",
    "        test_list_set[i]=i\n",
    "    \n",
    "    for size in range(100, 1100, 100):\n",
    "        test_list = random.sample(test_list_set,size)\n",
    "        \n",
    "        start_time=time.time()\n",
    "        func(test_list,lambda x:x**2-2*x+10)\n",
    "        end_time=time.time()\n",
    "        time_list.append(end_time-start_time)\n",
    "    #################\n",
    "    return time_list\n",
    "\n",
    "def compute_sorting_time():\n",
    "    import matplotlib.pyplot as plt\n",
    "    ### CODE HERE ###\n",
    "    \n",
    "    plt.plot([x for x in range(100,1100,100)], _compute_time(bubble_sort))\n",
    "    plt.plot([x for x in range(100,1100,100)], _compute_time(merge_sort))\n",
    "    plt.plot([x for x in range(100,1100,100)], _compute_time(insertion_sort))\n",
    "    plt.plot([x for x in range(100,1100,100)], _compute_time(shell_sort))\n",
    "    plt.plot([x for x in range(100,1100,100)], _compute_time(quick_sort))\n",
    "    plt.xlabel('N', fontsize=12)\n",
    "    plt.ylabel('Time', fontsize=12)\n",
    "    plt.title('Computation time', fontsize = 12)\n",
    "    plt.legend(['Bubble Sort $\\mathcal{O}(n^2)$', 'Insertion Sort $\\mathcal{O}(n^2)$', \n",
    "                'Shell Sort $\\mathcal{O}(n^2) \\sim \\mathcal{O}(n)$', 'Merge Sort$\\mathcal{O}(n\\log n)$', 'Quick Sort $\\mathcal{O}(n \\log n)$'], \n",
    "                loc='best', fontsize=8);\n",
    "    plt.show()\n",
    "    #################\n",
    "\n",
    "\n",
    "compute_sorting_time()"
   ]
  },
  {
   "cell_type": "markdown",
   "metadata": {},
   "source": [
    "### Describe and Discuss your answer"
   ]
  },
  {
   "cell_type": "markdown",
   "metadata": {},
   "source": [
    "- 각 sorting function이 인자로 받는 func는 lambda x:x**2-2*x+10 로 임의로 지정해주었다.\n",
    "\n",
    "- O(n) comparision\n",
    "- bubble_sort: O(n^2)\n",
    "- insertion_sort: O(n^2)\n",
    "- merge_sort: O(nlogn)\n",
    "- shell_sort:O(n)~O(n^2)\n",
    "- quick_sort: O(nlogn)"
   ]
  },
  {
   "cell_type": "markdown",
   "metadata": {},
   "source": [
    "___"
   ]
  },
  {
   "cell_type": "markdown",
   "metadata": {},
   "source": [
    "#### 3. 2018 평창 동계 올림픽 순위를 구하려고 한다. 다음 조건들을 만족하는 ```sort_medals()``` 함수를 구현하시오. (10점)\n",
    "> * ```medals.csv``` 파일로 부터 데이터를 받아, **금메달 우선 순위 방식으로 정렬**한 뒤 **pandas.DataFrame**의 형태로 반환한다.\n",
    "> * **Problem I-1**에서 구현한 ```quick_sort()```함수를 1번만 사용하여 정렬한다. \n",
    "\n",
    "#### HINT\n",
    "1. extreme case에 대해서는 가정하지 않는다. (e.g. 금메달 1개 은메달 0개 vs 금메달 0개, 은메달 1000000개) \n",
    "2. ```pd.read_csv('./medals.csv').values.tolist()``` 를 이용하여 csv 파일을 읽고 리스트로 변환한다.\n",
    "3. **pandas.DataFrame**에 관한 내용은 다음 [링크](https://pandas.pydata.org/docs/reference/api/pandas.DataFrame.html)를 참조한다.\n",
    "\n",
    "\n",
    "#### NOTE\n",
    "- 명시된 라이브러리 이외에는 사용하지 않는다(사용 시 해당 문항 0점).\n",
    "- numpy는 리스트를 numpy array로 바꾸는 것 이외에 사용하지 않는다.\n",
    "- pandas는 파일을 읽고 리스트로 바꿀 때, 정렬된 리스트를 **pandas.DataFrame**의 형태로 바꿀 때 이외에 사용하지 않는다.\n",
    "- ```###CODE HERE###``` 이외의 코드를 수정하지 않는다.\n",
    "- ```###CODE HERE###``` 중 설명이 필요한 부분에 주석을 단다. \n",
    "- Discussion에 알고리즘이 어떻게 동작하는지 설명한다."
   ]
  },
  {
   "cell_type": "code",
   "execution_count": 120,
   "metadata": {},
   "outputs": [
    {
     "data": {
      "text/html": [
       "<div>\n",
       "<style scoped>\n",
       "    .dataframe tbody tr th:only-of-type {\n",
       "        vertical-align: middle;\n",
       "    }\n",
       "\n",
       "    .dataframe tbody tr th {\n",
       "        vertical-align: top;\n",
       "    }\n",
       "\n",
       "    .dataframe thead th {\n",
       "        text-align: right;\n",
       "    }\n",
       "</style>\n",
       "<table border=\"1\" class=\"dataframe\">\n",
       "  <thead>\n",
       "    <tr style=\"text-align: right;\">\n",
       "      <th></th>\n",
       "      <th>국가</th>\n",
       "      <th>금메달</th>\n",
       "      <th>은메달</th>\n",
       "      <th>동메달</th>\n",
       "    </tr>\n",
       "  </thead>\n",
       "  <tbody>\n",
       "    <tr>\n",
       "      <th>0</th>\n",
       "      <td>독일</td>\n",
       "      <td>14</td>\n",
       "      <td>10</td>\n",
       "      <td>7</td>\n",
       "    </tr>\n",
       "    <tr>\n",
       "      <th>1</th>\n",
       "      <td>노르웨이</td>\n",
       "      <td>14</td>\n",
       "      <td>14</td>\n",
       "      <td>11</td>\n",
       "    </tr>\n",
       "    <tr>\n",
       "      <th>2</th>\n",
       "      <td>캐나다</td>\n",
       "      <td>11</td>\n",
       "      <td>8</td>\n",
       "      <td>10</td>\n",
       "    </tr>\n",
       "    <tr>\n",
       "      <th>3</th>\n",
       "      <td>미국</td>\n",
       "      <td>9</td>\n",
       "      <td>8</td>\n",
       "      <td>6</td>\n",
       "    </tr>\n",
       "    <tr>\n",
       "      <th>4</th>\n",
       "      <td>네덜란드</td>\n",
       "      <td>8</td>\n",
       "      <td>6</td>\n",
       "      <td>6</td>\n",
       "    </tr>\n",
       "    <tr>\n",
       "      <th>5</th>\n",
       "      <td>스웨덴</td>\n",
       "      <td>7</td>\n",
       "      <td>6</td>\n",
       "      <td>1</td>\n",
       "    </tr>\n",
       "    <tr>\n",
       "      <th>6</th>\n",
       "      <td>오스트리아</td>\n",
       "      <td>5</td>\n",
       "      <td>3</td>\n",
       "      <td>6</td>\n",
       "    </tr>\n",
       "    <tr>\n",
       "      <th>7</th>\n",
       "      <td>프랑스</td>\n",
       "      <td>5</td>\n",
       "      <td>4</td>\n",
       "      <td>6</td>\n",
       "    </tr>\n",
       "    <tr>\n",
       "      <th>8</th>\n",
       "      <td>스위스</td>\n",
       "      <td>5</td>\n",
       "      <td>6</td>\n",
       "      <td>4</td>\n",
       "    </tr>\n",
       "    <tr>\n",
       "      <th>9</th>\n",
       "      <td>대한민국</td>\n",
       "      <td>5</td>\n",
       "      <td>8</td>\n",
       "      <td>4</td>\n",
       "    </tr>\n",
       "    <tr>\n",
       "      <th>10</th>\n",
       "      <td>일본</td>\n",
       "      <td>4</td>\n",
       "      <td>5</td>\n",
       "      <td>4</td>\n",
       "    </tr>\n",
       "    <tr>\n",
       "      <th>11</th>\n",
       "      <td>이탈리아</td>\n",
       "      <td>3</td>\n",
       "      <td>2</td>\n",
       "      <td>5</td>\n",
       "    </tr>\n",
       "    <tr>\n",
       "      <th>12</th>\n",
       "      <td>체코</td>\n",
       "      <td>2</td>\n",
       "      <td>2</td>\n",
       "      <td>3</td>\n",
       "    </tr>\n",
       "    <tr>\n",
       "      <th>13</th>\n",
       "      <td>벨라루스</td>\n",
       "      <td>2</td>\n",
       "      <td>1</td>\n",
       "      <td>0</td>\n",
       "    </tr>\n",
       "    <tr>\n",
       "      <th>14</th>\n",
       "      <td>러시아 출신 올림픽 선수</td>\n",
       "      <td>2</td>\n",
       "      <td>6</td>\n",
       "      <td>9</td>\n",
       "    </tr>\n",
       "    <tr>\n",
       "      <th>15</th>\n",
       "      <td>중화인민공화국</td>\n",
       "      <td>1</td>\n",
       "      <td>6</td>\n",
       "      <td>2</td>\n",
       "    </tr>\n",
       "    <tr>\n",
       "      <th>16</th>\n",
       "      <td>헝가리</td>\n",
       "      <td>1</td>\n",
       "      <td>0</td>\n",
       "      <td>0</td>\n",
       "    </tr>\n",
       "    <tr>\n",
       "      <th>17</th>\n",
       "      <td>우크라이나</td>\n",
       "      <td>1</td>\n",
       "      <td>0</td>\n",
       "      <td>0</td>\n",
       "    </tr>\n",
       "    <tr>\n",
       "      <th>18</th>\n",
       "      <td>슬로바키아</td>\n",
       "      <td>1</td>\n",
       "      <td>2</td>\n",
       "      <td>0</td>\n",
       "    </tr>\n",
       "    <tr>\n",
       "      <th>19</th>\n",
       "      <td>핀란드</td>\n",
       "      <td>1</td>\n",
       "      <td>1</td>\n",
       "      <td>4</td>\n",
       "    </tr>\n",
       "    <tr>\n",
       "      <th>20</th>\n",
       "      <td>영국</td>\n",
       "      <td>1</td>\n",
       "      <td>0</td>\n",
       "      <td>4</td>\n",
       "    </tr>\n",
       "    <tr>\n",
       "      <th>21</th>\n",
       "      <td>폴란드</td>\n",
       "      <td>1</td>\n",
       "      <td>0</td>\n",
       "      <td>1</td>\n",
       "    </tr>\n",
       "    <tr>\n",
       "      <th>22</th>\n",
       "      <td>스페인</td>\n",
       "      <td>0</td>\n",
       "      <td>0</td>\n",
       "      <td>2</td>\n",
       "    </tr>\n",
       "    <tr>\n",
       "      <th>23</th>\n",
       "      <td>카자흐스탄</td>\n",
       "      <td>0</td>\n",
       "      <td>0</td>\n",
       "      <td>1</td>\n",
       "    </tr>\n",
       "    <tr>\n",
       "      <th>24</th>\n",
       "      <td>뉴질랜드</td>\n",
       "      <td>0</td>\n",
       "      <td>0</td>\n",
       "      <td>2</td>\n",
       "    </tr>\n",
       "    <tr>\n",
       "      <th>25</th>\n",
       "      <td>리히텐슈타인</td>\n",
       "      <td>0</td>\n",
       "      <td>0</td>\n",
       "      <td>1</td>\n",
       "    </tr>\n",
       "    <tr>\n",
       "      <th>26</th>\n",
       "      <td>라트비아</td>\n",
       "      <td>0</td>\n",
       "      <td>0</td>\n",
       "      <td>1</td>\n",
       "    </tr>\n",
       "    <tr>\n",
       "      <th>27</th>\n",
       "      <td>슬로베니아</td>\n",
       "      <td>0</td>\n",
       "      <td>1</td>\n",
       "      <td>1</td>\n",
       "    </tr>\n",
       "    <tr>\n",
       "      <th>28</th>\n",
       "      <td>벨기에</td>\n",
       "      <td>0</td>\n",
       "      <td>1</td>\n",
       "      <td>0</td>\n",
       "    </tr>\n",
       "    <tr>\n",
       "      <th>29</th>\n",
       "      <td>오스트레일리아</td>\n",
       "      <td>0</td>\n",
       "      <td>2</td>\n",
       "      <td>1</td>\n",
       "    </tr>\n",
       "  </tbody>\n",
       "</table>\n",
       "</div>"
      ],
      "text/plain": [
       "               국가 금메달 은메달 동메달\n",
       "0              독일  14  10   7\n",
       "1            노르웨이  14  14  11\n",
       "2             캐나다  11   8  10\n",
       "3              미국   9   8   6\n",
       "4            네덜란드   8   6   6\n",
       "5             스웨덴   7   6   1\n",
       "6           오스트리아   5   3   6\n",
       "7             프랑스   5   4   6\n",
       "8             스위스   5   6   4\n",
       "9            대한민국   5   8   4\n",
       "10             일본   4   5   4\n",
       "11           이탈리아   3   2   5\n",
       "12             체코   2   2   3\n",
       "13           벨라루스   2   1   0\n",
       "14  러시아 출신 올림픽 선수   2   6   9\n",
       "15        중화인민공화국   1   6   2\n",
       "16            헝가리   1   0   0\n",
       "17          우크라이나   1   0   0\n",
       "18          슬로바키아   1   2   0\n",
       "19            핀란드   1   1   4\n",
       "20             영국   1   0   4\n",
       "21            폴란드   1   0   1\n",
       "22            스페인   0   0   2\n",
       "23          카자흐스탄   0   0   1\n",
       "24           뉴질랜드   0   0   2\n",
       "25         리히텐슈타인   0   0   1\n",
       "26           라트비아   0   0   1\n",
       "27          슬로베니아   0   1   1\n",
       "28            벨기에   0   1   0\n",
       "29        오스트레일리아   0   2   1"
      ]
     },
     "metadata": {},
     "output_type": "display_data"
    }
   ],
   "source": [
    "def sort_medals(): # 12\n",
    "    import pandas as pd\n",
    "    import numpy as np\n",
    "    values = pd.read_csv('./medals.csv').values.tolist()\n",
    "    ### CODE HERE ###\n",
    "    from IPython.display import display, HTML\n",
    "    quick_sort(values, lambda x: x[1]) \n",
    "    display(pd.DataFrame(np.array(values),columns=['국가','금메달','은메달','동메달']))   \n",
    "\n",
    "    #################\n",
    "\n",
    "sort_medals()"
   ]
  },
  {
   "cell_type": "markdown",
   "metadata": {},
   "source": [
    "### Describe and Discuss your answer"
   ]
  },
  {
   "cell_type": "markdown",
   "metadata": {},
   "source": [
    "- quick_sort에 func 인자를 \"lambda x: x[1]\" 로 넘겨주었다. 금메달 우선순위 비교이기 때문에 index=1 인 값(금메달 수)을 기준으로 내림차순을 정렬하게 된다."
   ]
  },
  {
   "cell_type": "markdown",
   "metadata": {},
   "source": [
    "___"
   ]
  },
  {
   "cell_type": "markdown",
   "metadata": {},
   "source": [
    "### PROBLEM II - Sorting & Unoredered List (30 POINTS)\n",
    "\n",
    "#### Node로 이루어진 Unordered list를 merge sort 방식으로 정렬하려 한다. 주어진 ```File```와 ```Node``` class를 이용하여 다음 조건들을 만족하는 ```UnorderedList``` class를 완성하시오. (30점)\n",
    "* ```File``` class는 이름과 생성 날짜를 instance variable로 가진다. \n",
    "* ```Node``` class는 ```self.data``` 와 ```self.next```를 instance variable로 가진다. ```self.data```에는 ```File``` class의 인스턴스를 저장하고 ```self.next```에는 다른 노드를 저장한다.\n",
    "* ```UnorderedList``` class는 ```self.head``` 와 ```self.metric```을 instance variable로 가진다. ```self.head```는 연결된 노드들 중 제일 앞의 노드를 저장한다. ```self.metric```은 ```merge_sort(self, metric)``` method에서 인자로 받아 어떤 metric을 사용할지 저장한다. ```__init(self)__```, ```append(self, item)```, ```merge_sort(self, metric)```, ```__repr(self)__```은 미리 구현되어 있으며 merge sort를 수행하는 부분은 다음과 같다.\n",
    "> * ```merge_sort(self, metric)``` : ```metric``` 은 ```File```의 **이름** 또는 **생성 날짜**가 될 수 있다. 해당 ```metric```에 대하여 오름 차순으로 ```merge_sort_helper```를 이용하여 merge sort를 수행한다. \n",
    "> * ```merge_sort_helper(self, new_head)``` : 최초로 ```self.head```를 입력으로 받아 recursive하게 merge sort를 수행한 뒤 정렬된 ```UnorderedList```의 ```new_head```를 반환한다. \n",
    "> * ```get_middle(self, new_head)``` : ```UnorderedList``` 안에서 부분 혹은 전체의 link된 노드들의 head를 입력으로 받아 중간 노드를 반환한다. \n",
    "* 정렬할 때 노드를 제외한 다른 데이터 구조를 사용할 수 없다(e.g. list, dictionary).\n",
    "* 정렬하는 동안 ```Node``` 클래스의 인스턴스 생성이나 deepcopy는 할 수 없다. \n",
    "\n",
    "\n",
    "#### HINT\n",
    "1. ```UnorderedList```의 정렬이 되지 않은 linked node들을 다 분리(Divide)한 뒤 합져주는 과정에서 정렬(Conquer & Combine)한다.\n",
    "2. **Divide -> Conquer & Combine**의 과정 중 **Conquer & Combine**을 recursive function을 사용하여 구현할 수 있다(권장). 만약 사용할 경우 다른 method를 ```###CODE HERE###``` 이외에 작성할 수 있다.\n",
    "\n",
    "#### NOTE\n",
    "- 명시된 라이브러리 이외에는 사용하지 않는다(사용 시 해당 문항 0점).\n",
    "- ```###CODE HERE###``` 이외에 다른 하나의 method를 구현할 수 있다. 그러나 미리 작성된 코드를 수정할 수 없다.\n",
    "- 작성한 코드들 중 설명이 필요한 부분에 주석을 단다. \n",
    "- Discussion에 알고리즘이 어떻게 동작하는지 설명한다.\n",
    "\n"
   ]
  },
  {
   "cell_type": "code",
   "execution_count": 121,
   "metadata": {},
   "outputs": [],
   "source": [
    "from assignment4_ import File, UnorderedList"
   ]
  },
  {
   "cell_type": "code",
   "execution_count": 122,
   "metadata": {},
   "outputs": [
    {
     "name": "stdout",
     "output_type": "stream",
     "text": [
      "[Y10, H20, X17, A1, A8, E3, F12, R11, F7, A18]\n",
      "[A1, A18, A8, E3, F12, F7, H20, R11, X17, Y10]\n",
      "[Y10, H20, X17, A1, A8, E3, F12, R11, F7, A18]\n"
     ]
    }
   ],
   "source": [
    "import random\n",
    "import string\n",
    "\n",
    "sort_list = UnorderedList()\n",
    "str_list = string.ascii_uppercase\n",
    "\n",
    "for i in range(10):\n",
    "    random_name = ''.join(random.choices(str_list, k=1)) + str(random.randint(1,20))\n",
    "    sort_list.append(File(random_name))\n",
    "    \n",
    "\n",
    "print(sort_list)\n",
    "sort_list.merge_sort('name')\n",
    "print(sort_list)\n",
    "sort_list.merge_sort('date')\n",
    "print(sort_list)"
   ]
  },
  {
   "cell_type": "markdown",
   "metadata": {},
   "source": [
    "### Describe and Discuss your answer"
   ]
  },
  {
   "cell_type": "markdown",
   "metadata": {},
   "source": [
    "- get_middle : Node를 한 칸씩 옮겨가는 one_step과, 두 칸씩 옮겨가는 two_step을 정의해주었다. two_step이 None이 되는 경우 one_step의 위치가 middle node이다.\n",
    "- merge_sort : 비교 기준이 되는 metric을 정의하고, merge_sort_helper를 통해 Node가 정렬된 후 head를 self.head로 정의해준다.\n",
    "- merge_sort_helper : get_middle을 활용해 middle Node를 기준으로 left, right으로 나누어주고 각각에 대해 recursive하게 실행해준다. merge_sort_helper2 를 활용해 left와 right를 merge sort해주고 head를 return 받는다.\n",
    "- merge_sort_helper2 : merge_sort function에서 정의된 metric을 기준으로 Node.data.name(or date)를 비교해 Node를 오름차순 정렬해준다."
   ]
  },
  {
   "cell_type": "markdown",
   "metadata": {},
   "source": [
    "___"
   ]
  },
  {
   "cell_type": "markdown",
   "metadata": {},
   "source": [
    "### PROBLEM III - Searching (50 POINTS)\n",
    "\n",
    "#### 1. Collision resolution을 위해 chaining을 사용하는 HashTable을 구현하려 한다. 다음 조건들을 만족하는 HashTable를 구현하시오 (15점)\n",
    "* **Chaining**이란 주어진 key 값에 대응하는 hash address가 고정되는 close addressing 방법 중의 하나이다. Collision이 발생한 key들을 리스트를 이용해 저장하고 각 리스트를 chain이라 부른다. Chain 길이의 평균은 Load factor(요소의 수/Table의 크기)와 같다. Chaining을 이용한 collision resolution을 수행하는데 고려해야 할 점은 다음과 같다.\n",
    "> * ```self.slots```, ```self.data```는 ```size``` 길이의 ```Empty list``` 로 초기화된 리스트를 사용한다.\n",
    "> * ```put``` 할 때 요소의 수가 ```self.size```와 같으면(load factor = 1) HashTable의 크기를 2배로 늘리고 모든 데이터를 다시 hashing한다.\n",
    " \n",
    "* 구현해야 할 Methods들은 다음과 같다.\n",
    "> * ```__init__(self, size) ``` : Empty HashTable을 생성한다.\n",
    ">> * ```self.slots```, ```self.data```는 ```size``` 길이의 ```Empty list``` 로 초기화된 리스트를 사용한다.\n",
    ">> * ```self.num_collision```은 collision이 발생할 때마다 값을 증가시켜준다.\n",
    ">> * 현재 요소의 수는 ```self.num_element```에 저장한다\n",
    "> * ```hash_func(self, key) ``` : key값을 입력으로 받아 해당 hash value를 반환한다.\n",
    "> * ```_resize(self)``` : HashTable의 크기를 2배로 늘리고 모든 데이터를 다시 hashing한다.\n",
    "> * ```put(self, key, data) ``` : key, data 쌍을 받아 key의 hash value를 계산한 뒤 해당 값을 index로 ```self.slots```, ```self.data```의 list에 저장한다. 요소의 수가 ```self.size```와 같으면(load factor = 1) resizing한다.\n",
    "> * ```get(self, key) ``` : 입력받은 key에 대응하는 data를 반환한다. 없을 경우 에러 메시지를 출력한다.\n",
    "> * ```remove(self, key) ``` : 입력받은 key에 대응하는 key, data 쌍을 삭제한다. 없을 경우 에러 메시지를 출력한다.\n",
    "> * ```__getitem__(self, key) ``` : HashTable에 []연산자를 통해 접근할 수 있도록 한다. \n",
    "> * ```__setitem__(self, key, data)  ``` : HashTable에 []연산자를 통해 값을 입력할 수 있도록 한다.\n",
    "> * ```__delitem__(self, key) ``` : del a[] 를 사용할 수 있도록 한다.\n",
    "> * ```__len__(self) ``` : HashTable의 key, data 쌍의 갯수를 len을 통해 출력할 수 있도록 한다.\n",
    "> * ```__contains__(self, key) ``` : 해당 key를 ```in``` keyword를 통해 찾을 수 있도록 한다.\n",
    "> * ```keys(self) ``` : key 값들의 list를 반환한다.\n",
    "> * ```values(self) ``` : data 값들의 list를 반환한다.\n",
    "\n",
    "\n",
    "\n",
    "#### NOTE\n",
    "- 외부 라이브러리는 사용하지 않는다(사용 시 해당 문항 0점).\n",
    "- ```###CODE HERE###``` 이외의 코드를 수정하지 않는다.\n",
    "- ```###CODE HERE###``` 중 설명이 필요한 부분에 주석을 단다. \n",
    "- Discussion에 알고리즘이 어떻게 동작하는지 설명하고 ```put(self, key, data) ```, ```get(self, key) ```, ```remove(self, key) ```의 complexity를 분석한다."
   ]
  },
  {
   "cell_type": "code",
   "execution_count": 123,
   "metadata": {},
   "outputs": [
    {
     "name": "stdout",
     "output_type": "stream",
     "text": [
      "[[1, 2], [], [], [], [], [], [], [], [], []]\n",
      "9\n"
     ]
    }
   ],
   "source": [
    "a=[[] for _ in range(10)]\n",
    "a[0].append(1)\n",
    "a[0].append(2)\n",
    "print(a)\n",
    "num_empty_slot=0\n",
    "        \n",
    "for i in range(len(a)):\n",
    "    if len(a[i])==0:\n",
    "        num_empty_slot+=1\n",
    "        \n",
    "print(num_empty_slot)"
   ]
  },
  {
   "cell_type": "code",
   "execution_count": 124,
   "metadata": {},
   "outputs": [],
   "source": [
    "from assignment4 import HashTable_Chain"
   ]
  },
  {
   "cell_type": "code",
   "execution_count": 125,
   "metadata": {},
   "outputs": [
    {
     "name": "stdout",
     "output_type": "stream",
     "text": [
      "[3, 15, 27, 8, 9, 21]\n",
      "['a', 'c', 'e', 'f', 'b', 'd']\n",
      "a b c d e f\n",
      "No corresponding key\n",
      "[15, 27, 8, 9, 21]\n",
      "['c', 'e', 'f', 'b', 'd']\n",
      "False\n",
      "No corresponding key\n",
      "5\n"
     ]
    }
   ],
   "source": [
    "hash_table = HashTable_Chain(size = 11)\n",
    "hash_table[3] = 'a'\n",
    "hash_table[9] = 'b'\n",
    "hash_table[15] = 'c'\n",
    "hash_table[21] = 'd'\n",
    "hash_table[27] = 'e'\n",
    "hash_table[8] = 'f'\n",
    "print(hash_table.keys())\n",
    "print(hash_table.values())\n",
    "print(hash_table[3], hash_table[9], hash_table[15], hash_table[21], hash_table[27], hash_table[8])\n",
    "hash_table[999]\n",
    "del hash_table[3]\n",
    "print(hash_table.keys())\n",
    "print(hash_table.values())\n",
    "print(3 in hash_table)\n",
    "del hash_table[999]\n",
    "print(len(hash_table))\n",
    "\n"
   ]
  },
  {
   "cell_type": "markdown",
   "metadata": {},
   "source": [
    "### Describe and Discuss your answer"
   ]
  },
  {
   "cell_type": "markdown",
   "metadata": {},
   "source": [
    "- hash_func(self,key): key값을 인자로 받을 때, key값을 self.size로 나누어주어 hash_value생성\n",
    "- put(self,key,data): load factor가 1이 아닐 때,self.slots와 self.data에 hash_value를 통해 append해주고 num_element를 1 증가시킨다. load factor가 1이면 self._resize()를 실행한다. key-value pair에 대해 한 번씩 실행해주면 되므로 O(1)이다.\n",
    "- get(self,key): hash_value를 통해 속하는 chain이 있는 곳 까지는 O(1)이다. chain에서 key에 해당하는 chain_index를 찾고 이를 통해 value를 찾는다. chain_index를 찾는 과정은 linear하게 하나씩 증가시키며 비교하기 때문에 O(n)이다. 따라서 전체적으로 O(n)이다.\n",
    "- remove(self, key): get과 같은 과정을 거치고, del을 통해 해당하는 key와 value pair를 삭제해준다. 따라서 O(n).\n"
   ]
  },
  {
   "cell_type": "markdown",
   "metadata": {},
   "source": [
    "___"
   ]
  },
  {
   "cell_type": "markdown",
   "metadata": {},
   "source": [
    "#### 2. Collision resolution을 위해 Double Hashing을 사용하는 HashTable을 구현하려 한다. 다음 조건들을 만족하는 HashTable를 구현하시오 (25점)\n",
    "* **Double Hashing**이란 주어진 key 값에 대응하는 hash address가 고정되지 않는 open addressing 방법 중의 하나이다. 즉, collision resolution을 multiple postion을 probe함으로써 해결하는데 그 이동폭으로써 또 다른 hash function을 사용한다. Double Hashing을 이용한 collision resolution을 수행하는데 고려해야 할 점은 다음과 같다.\n",
    "> * ```self.slots```, ```self.data```는 ```size``` 길이의 ```None``` 으로 초기화된 list를 사용한다.\n",
    "> * 다음의 식으로 probing을 진행한다. ```(hash1(key) + i * hash2(key)) % TABLE_SIZE```. 만약 ```hash2(key)=1``` 이라면 linear probing과 같다. \n",
    "> * Probing에 사용되는 ```hash2(key)``` 은 0보다 큰 값을 반환해야 한다.\n",
    "> * ```hash2(key)```가 반환하는 값이 Table size와 서로소이고 Table size가 prime number일 때 모든 address를 probe할 수 있다. **Why?**\n",
    "> * ```put``` 할 때 요소의 수가 ```self.size```의 0.75보다 크거나(load factor > 0.75) probing 횟수가 ```self.size```와 같으면 HashTable의 크기를 2배로 늘리고 모든 데이터를 다시 hashing한다.\n",
    "> * ```get```, ```remove```할 때 probing 횟수가 ```self.size```와 같으면 해당 key가 없다고 판단한다. \n",
    "> * ```remove``` 할 때 ```None``` 대신 ```'Delete'```로 marking 해준다. **Why?**\n",
    "\n",
    "* 구현해야 할 Methods들은 다음과 같다.\n",
    "> * ```__init__(self, size) ``` : Empty HashTable을 생성한다. \n",
    ">> * ```self.slots```, ```self.data```는 ```size``` 길이의 ```None``` 으로 초기화된 list를 사용한다.\n",
    ">> * ```self.num_collision```은 collision이 발생할 때마다 값을 증가시켜준다. 이 때 probing할 때 발생하는 collision도 횟수에 포함시킨다.\n",
    ">> * 현재 요소의 수는 ```self.num_element```에 저장한다\n",
    "> * ```hash_func1(self, key)``` : key값을 입력으로 받아 해당 hash value를 반환한다.\n",
    "> * ```hash_func2(self, key)``` : key값을 입력으로 받아 해당 hash value를 반환한다.\n",
    "> * ```_resize(self)``` : HashTable의 크기를 2배로 늘리고 모든 데이터를 다시 hashing한다.\n",
    "> * ```put(self, key, data) ``` : key, data 쌍을 받아 key의 hash value를 계산한 뒤 해당 값을 index로 ```self.slots```, ```self.data```의 list에 저장한다. 요소의 수가 ```self.size```의 0.75보다 크거나(load factor > 0.75) probing 횟수가 ```self.size```와 같으면 resizing한다.\n",
    "> * ```get(self, key) ``` : 입력받은 key에 대응하는 data를 반환한다. Probing 횟수가 ```self.size```와 같으면 해당 key가 없다고 판단한다. 없을 경우 에러 메시지를 출력한다.\n",
    "> * ```remove(self, key) ``` : 입력받은 key에 대응하는 key, data 쌍을 삭제한 후 ```'Delete'```로 marking 해준다. Probing 횟수가 ```self.size```와 같으면 해당 key가 없다고 판단한다. 없을 경우 에러 메시지를 출력한다.\n",
    "> * ```__getitem__(self, key) ``` : HashTable에 []연산자를 통해 접근할 수 있도록 한다. \n",
    "> * ```__setitem__(self, key, data)  ``` : HashTable에 []연산자를 통해 값을 입력할 수 있도록 한다.\n",
    "> * ```__delitem__(self, key) ``` : del a[] 를 사용할 수 있도록 한다.\n",
    "> * ```__len__(self) ``` : HashTable의 key, data 쌍의 갯수를 len을 통해 출력할 수 있도록 한다.\n",
    "> * ```__contains__(self, key) ``` : 해당 key를 ```in``` keyword를 통해 찾을 수 있도록 한다.\n",
    "> * ```keys(self) ``` : key 값들의 list를 반환한다.\n",
    "> * ```values(self) ``` : data 값들의 list를 반환한다.\n",
    "\n",
    "\n",
    "#### NOTE\n",
    "- 외부 라이브러리는 사용하지 않는다(사용 시 해당 문항 0점).\n",
    "- ```###CODE HERE###``` 이외의 코드를 수정하지 않는다.\n",
    "- ```###CODE HERE###``` 중 설명이 필요한 부분에 주석을 단다. \n",
    "- Discussion에 알고리즘이 어떻게 동작하는지와 linear probing과 quadratic probing의 문제점을 설명하고 이를 어떻게 해결했는지 작성한다. 또한 문제 설명의 **Why?** 에 대한 답을 작성한다. \n",
    "\n"
   ]
  },
  {
   "cell_type": "code",
   "execution_count": 126,
   "metadata": {},
   "outputs": [],
   "source": [
    "from assignment4_ajh import HashTable_DoubleHash"
   ]
  },
  {
   "cell_type": "code",
   "execution_count": 127,
   "metadata": {},
   "outputs": [
    {
     "name": "stdout",
     "output_type": "stream",
     "text": [
      "[3, 15, 27, 8, 9, 21]\n",
      "['a', 'c', 'e', 'f', 'b', 'd']\n",
      "a b c d e f\n",
      "No corresponding key\n",
      "[15, 27, 8, 9, 21]\n",
      "['c', 'e', 'f', 'b', 'd']\n",
      "False\n",
      "No corresponding key\n",
      "5\n"
     ]
    }
   ],
   "source": [
    "hash_table = HashTable_DoubleHash(size = 11)\n",
    "hash_table[3] = 'a'\n",
    "hash_table[9] = 'b'\n",
    "hash_table[15] = 'c'\n",
    "hash_table[21] = 'd'\n",
    "hash_table[27] = 'e'\n",
    "hash_table[8] = 'f'\n",
    "print(hash_table.keys())\n",
    "print(hash_table.values())\n",
    "print(hash_table[3], hash_table[9], hash_table[15], hash_table[21], hash_table[27], hash_table[8])\n",
    "hash_table[999]\n",
    "del hash_table[3]\n",
    "print(hash_table.keys())\n",
    "print(hash_table.values())\n",
    "print(3 in hash_table)\n",
    "del hash_table[999]\n",
    "print(len(hash_table))\n",
    "\n",
    "\n"
   ]
  },
  {
   "cell_type": "markdown",
   "metadata": {},
   "source": [
    "### Describe and Discuss your answer"
   ]
  },
  {
   "cell_type": "markdown",
   "metadata": {},
   "source": [
    "- hash_func1(self, key) : start_index의 값을 만들어 가장 처음 probe할 hash value를 만들어낸다.]\n",
    "- hash_func2(self, key) : self.size가 홀수일 경우와 짝수일 경우로 나누어 self.size보다 작은 수 중 가장 큰 소수를 구하였다. 그 후 hash_value로 hash2(key)=prime-(key%prime)을 정의하였다. 이렇게 Table size와 서로소가 되도록 hash2(key)를 정의해주면 collision이 일어나지 않는다.\n",
    "- put(self, key, data): hash_func1,2를 통해 구한 hash_value값들과 (hash1(key) + i * hash2(key)) % TABLE_SIZE의 식을 활용해 probing을 진행한다.load_factor가 0.75보다 크거나 진행 중 probing 횟수가 self.size와 같게 되면 self._resize()를 실행한다.\n",
    "- get(self, key) : put과 유사한 방법으로 진행 후, key값을 구했을 때의 index를 활용해 data list에서 value를 출력한다.\n",
    "- remove(self, key): 위와 같이 진행 후, slots와 data list에서 해당 값들을 'Delete'로 바꿔준다.\n",
    "- liear probing은 clustering의 문제가, quadratic probing은 모든 slot을 확인하지 않을 수 있다는 문제가 있다. 위 문제에서는 self.size와 서로소인 gap을 선정하는 방식으로 문제를 해결했다. 이처럼 하면 모든 slot을 검사하여 memory를 효율적으로 사용할 수 있다."
   ]
  },
  {
   "cell_type": "markdown",
   "metadata": {},
   "source": [
    "___"
   ]
  },
  {
   "cell_type": "markdown",
   "metadata": {},
   "source": [
    "#### 3. 위에서 구현한 두 HashTable의 collision resolution을 평가하고 chaining을 사용했을 때 chain 길이의 분포를 확인하려 한다. 다음 조건을 만족하는 graph와 histogram을 그리시오. (10점)\n",
    "1. ```plot_collision()``` 함수에서 두 HashTable의 요소의 수 증가에 따른 collision 횟수를 graph로 보여준다.\n",
    "> * 두 HashTable의 ```size```는 L(>=300, prime number)로 설정하고 key, value 쌍의 sample의 수는 2L로 설정한다.\n",
    "2. ```plot_chain_length()``` 함수에서 ```HashTable_chaining```의 각 chain의 길이를 histogram으로 보여준다.\n",
    "> * ```size```와 key, value 쌍의 sample의 수는 983으로 설정한다.\n",
    "\n",
    "#### HINT\n",
    "1. ```random.sample``` 함수를 이용하여 임의의 수열을 생성한다.\n",
    "2. histogram을 그릴 때 ```plt.hist```를 사용한다.\n",
    "\n",
    "#### NOTE\n",
    "- 명시된 라이브러리 이외에는 사용하지 않는다(사용 시 해당 문항 0점).\n",
    "- ```###CODE HERE###``` 이외의 코드를 수정하지 않는다.\n",
    "- ```###CODE HERE###``` 중 설명이 필요한 부분에 주석을 단다. \n",
    "- Discussion에 그래프에 대한 설명, 두 방식의 장단점, 개선 방안에 대해 작성한다."
   ]
  },
  {
   "cell_type": "code",
   "execution_count": 12,
   "metadata": {},
   "outputs": [],
   "source": [
    "from assignment4 import plot_collision, plot_chain_length"
   ]
  },
  {
   "cell_type": "code",
   "execution_count": 13,
   "metadata": {},
   "outputs": [
    {
     "data": {
      "image/png": "[encoded data removed]",
      "text/plain": [
       "<Figure size 432x288 with 1 Axes>"
      ]
     },
     "metadata": {
      "needs_background": "light"
     },
     "output_type": "display_data"
    }
   ],
   "source": [
    "plot_collision()"
   ]
  },
  {
   "cell_type": "code",
   "execution_count": 14,
   "metadata": {},
   "outputs": [
    {
     "data": {
      "image/png": "[encoded data removed]",
      "text/plain": [
       "<Figure size 432x288 with 1 Axes>"
      ]
     },
     "metadata": {
      "needs_background": "light"
     },
     "output_type": "display_data"
    }
   ],
   "source": [
    "plot_chain_length()"
   ]
  },
  {
   "cell_type": "markdown",
   "metadata": {},
   "source": [
    "### Describe and Discuss your answer"
   ]
  },
  {
   "cell_type": "markdown",
   "metadata": {},
   "source": [
    "chaining은 collision이 더 적게 발생하지만 아래의 히스토그램과 같이 clustering 문제가 발생한다. 반면 double hash는 chaining보다는 collision이 많이 발생하지만 모든 slot을 probing하기 때문에 clustering 문제가 발생하지 않는다."
   ]
  },
  {
   "cell_type": "markdown",
   "metadata": {},
   "source": [
    "___"
   ]
  }
 ],
 "metadata": {
  "anaconda-cloud": {},
  "kernelspec": {
   "display_name": "Python 3",
   "language": "python",
   "name": "python3"
  },
  "language_info": {
   "codemirror_mode": {
    "name": "ipython",
    "version": 3
   },
   "file_extension": ".py",
   "mimetype": "text/x-python",
   "name": "python",
   "nbconvert_exporter": "python",
   "pygments_lexer": "ipython3",
   "version": "3.8.5"
  }
 },
 "nbformat": 4,
 "nbformat_minor": 4
}
